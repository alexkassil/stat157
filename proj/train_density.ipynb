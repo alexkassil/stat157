{
 "cells": [
  {
   "cell_type": "code",
   "execution_count": 116,
   "metadata": {},
   "outputs": [],
   "source": [
    "import numpy as np\n",
    "import keras.applications\n",
    "from keras.applications.resnet50 import preprocess_input as p_i, decode_predictions, ResNet50\n",
    "from keras.preprocessing import image\n",
    "import h5py\n",
    "from keras.activations import softmax, relu, sigmoid\n",
    "#from keras.applications.vgg19 import VGG19\n",
    "#from keras.applications.vgg19 import preprocess_input\n",
    "import h5py\n",
    "from PIL import Image, ImageOps\n",
    "import gdal\n",
    "import keras.backend as K\n",
    "from keras.layers import Dense, Input, Conv2D, Flatten, GlobalAveragePooling2D, GlobalMaxPooling2D\n",
    "from keras.layers.core import Dropout, Activation\n",
    "from keras.layers.convolutional import MaxPooling2D\n",
    "from keras.layers.normalization import BatchNormalization\n",
    "from keras.optimizers import Adam, SGD\n",
    "from keras.models import Model\n",
    "import tensorflow as tf\n",
    "\n",
    "import csv"
   ]
  },
  {
   "cell_type": "code",
   "execution_count": 117,
   "metadata": {},
   "outputs": [
    {
     "data": {
      "text/plain": [
       "['/job:localhost/replica:0/task:0/device:GPU:0',\n",
       " '/job:localhost/replica:0/task:0/device:GPU:1']"
      ]
     },
     "execution_count": 117,
     "metadata": {},
     "output_type": "execute_result"
    }
   ],
   "source": [
    "from keras import backend as K\n",
    "K.tensorflow_backend._get_available_gpus()"
   ]
  },
  {
   "cell_type": "code",
   "execution_count": 118,
   "metadata": {},
   "outputs": [],
   "source": [
    "sess = tf.Session(config=tf.ConfigProto(log_device_placement=True))\n"
   ]
  },
  {
   "cell_type": "code",
   "execution_count": 119,
   "metadata": {},
   "outputs": [],
   "source": [
    "def resize(path, size=224):\n",
    "    ds = gdal.Open(path)\n",
    "    im = np.nan_to_num(ds.ReadAsArray())\n",
    "    im = (im * 255 / np.max(im)).astype('uint8')\n",
    "    img = Image.fromarray(np.stack(im, axis=2))\n",
    "    ratio = float(size/max(img.size))\n",
    "    img = img.resize((int(ratio * img.size[0]), int(ratio * img.size[1])))\n",
    "    return img"
   ]
  },
  {
   "cell_type": "code",
   "execution_count": 120,
   "metadata": {},
   "outputs": [],
   "source": [
    "def resize_and_pad(path, size=224):\n",
    "    img = resize(path, size)\n",
    "    delta_w = size - img.size[0]\n",
    "    delta_h = size - img.size[1]\n",
    "    padding = (delta_w//2, delta_h//2, delta_w-(delta_w//2), delta_h-(delta_h//2))\n",
    "    img = ImageOps.expand(img, padding)\n",
    "    return img"
   ]
  },
  {
   "cell_type": "code",
   "execution_count": 121,
   "metadata": {},
   "outputs": [],
   "source": [
    "def create_model(input_shape, top='flatten'):\n",
    "    if top not in ('flatten', 'avg', 'max'):\n",
    "        raise ValueError('unexpected top layer type: %s' % top)\n",
    "\n",
    "    # connects base model with new \"head\"\n",
    "    BottleneckLayer = {\n",
    "        'flatten': Flatten(),\n",
    "        'avg': GlobalAveragePooling2D(),\n",
    "        'max': GlobalMaxPooling2D()\n",
    "    }[top]\n",
    "\n",
    "    base = ResNet50(input_shape=input_shape,\n",
    "                             include_top=False, \n",
    "                             weights='imagenet')\n",
    "    print(\"here\")\n",
    "    #base.load_weights(\"imnet.hdf5\")\n",
    "    #print(\"weights done\")\n",
    "    x = BottleneckLayer(base.output)\n",
    "    x = Dense(1, activation='linear')(x)\n",
    "    model = Model(inputs=base.inputs, outputs=x)\n",
    "    return model"
   ]
  },
  {
   "cell_type": "code",
   "execution_count": 100,
   "metadata": {},
   "outputs": [
    {
     "name": "stdout",
     "output_type": "stream",
     "text": [
      "here\n"
     ]
    }
   ],
   "source": [
    "#tempmodel = create_model((222, 222, 3))\n",
    "model = create_model((224, 224, 3))"
   ]
  },
  {
   "cell_type": "code",
   "execution_count": 46,
   "metadata": {},
   "outputs": [],
   "source": [
    "tempmodel.layers.pop(0)\n",
    "inputs = Input(shape=(889, 889, 3)) #TODO: change to 899 later and fix data i'm so dumb\n",
    "x = Conv2D(3, 5, strides=(4, 4))(inputs)\n",
    "x = tempmodel(x)"
   ]
  },
  {
   "cell_type": "code",
   "execution_count": 34,
   "metadata": {},
   "outputs": [
    {
     "name": "stdout",
     "output_type": "stream",
     "text": [
      "_________________________________________________________________\n",
      "Layer (type)                 Output Shape              Param #   \n",
      "=================================================================\n",
      "input_4 (InputLayer)         (None, 889, 889, 3)       0         \n",
      "_________________________________________________________________\n",
      "conv2d_2 (Conv2D)            (None, 222, 222, 3)       228       \n",
      "_________________________________________________________________\n",
      "model_3 (Model)              (None, 1)                 23688065  \n",
      "=================================================================\n",
      "Total params: 23,688,293\n",
      "Trainable params: 23,635,173\n",
      "Non-trainable params: 53,120\n",
      "_________________________________________________________________\n"
     ]
    }
   ],
   "source": [
    "newm = Model(inputs=inputs, outputs=x)\n",
    "newm.summary()"
   ]
  },
  {
   "cell_type": "code",
   "execution_count": 137,
   "metadata": {},
   "outputs": [],
   "source": [
    "dummy = np.zeros((10, 889, 889, 3))"
   ]
  },
  {
   "cell_type": "code",
   "execution_count": 79,
   "metadata": {},
   "outputs": [],
   "source": [
    "opt = SGD(lr=1e-5, decay=1e-6)\n",
    "newm.compile(optimizer=opt, loss='mse')"
   ]
  },
  {
   "cell_type": "code",
   "execution_count": 140,
   "metadata": {},
   "outputs": [
    {
     "data": {
      "text/plain": [
       "array([[3.3863918e+09],\n",
       "       [3.3863918e+09],\n",
       "       [3.3863918e+09],\n",
       "       [3.3863918e+09],\n",
       "       [3.3863918e+09],\n",
       "       [3.3863918e+09],\n",
       "       [3.3863918e+09],\n",
       "       [3.3863918e+09],\n",
       "       [3.3863918e+09],\n",
       "       [3.3863918e+09]], dtype=float32)"
      ]
     },
     "execution_count": 140,
     "metadata": {},
     "output_type": "execute_result"
    }
   ],
   "source": [
    "newm.predict(dummy)"
   ]
  },
  {
   "cell_type": "code",
   "execution_count": 16,
   "metadata": {},
   "outputs": [],
   "source": [
    "path = '/datasets/data/infra_ims'"
   ]
  },
  {
   "cell_type": "code",
   "execution_count": 15,
   "metadata": {},
   "outputs": [],
   "source": [
    "import os"
   ]
  },
  {
   "cell_type": "code",
   "execution_count": 23,
   "metadata": {},
   "outputs": [],
   "source": [
    "y_dict = {}\n",
    "with open('data/nuts3density2014.csv', mode='r') as infile:\n",
    "    reader = csv.reader(infile)\n",
    "    y_dict = {rows[1]:rows[2] for rows in reader}"
   ]
  },
  {
   "cell_type": "code",
   "execution_count": 70,
   "metadata": {},
   "outputs": [],
   "source": [
    "def im_to_arr(path):\n",
    "    ds = gdal.Open(path)\n",
    "    arr = np.nan_to_num(ds.ReadAsArray())\n",
    "    return arr"
   ]
  },
  {
   "cell_type": "code",
   "execution_count": 17,
   "metadata": {},
   "outputs": [],
   "source": [
    "paths = sorted(os.listdir(path))"
   ]
  },
  {
   "cell_type": "code",
   "execution_count": 18,
   "metadata": {},
   "outputs": [
    {
     "name": "stdout",
     "output_type": "stream",
     "text": [
      "AT111_2014_infra.tif\n",
      "AT112_2014_infra.tif\n",
      "AT113_2014_infra.tif\n",
      "AT121_2014_infra.tif\n",
      "AT122_2014_infra.tif\n",
      "AT123_2014_infra.tif\n",
      "AT124_2014_infra.tif\n",
      "AT125_2014_infra.tif\n",
      "AT126_2014_infra.tif\n",
      "AT127_2014_infra.tif\n",
      "AT130_2014_infra.tif\n",
      "AT211_2014_infra.tif\n",
      "AT212_2014_infra.tif\n",
      "AT213_2014_infra.tif\n",
      "AT221_2014_infra.tif\n",
      "AT222_2014_infra.tif\n",
      "AT223_2014_infra.tif\n",
      "AT224_2014_infra.tif\n",
      "AT225_2014_infra.tif\n",
      "AT226_2014_infra.tif\n",
      "AT311_2014_infra.tif\n",
      "AT312_2014_infra.tif\n",
      "AT313_2014_infra.tif\n",
      "AT314_2014_infra.tif\n",
      "AT315_2014_infra.tif\n",
      "AT321_2014_infra.tif\n",
      "AT322_2014_infra.tif\n",
      "AT323_2014_infra.tif\n",
      "BG311_2014_infra.tif\n",
      "BG344_2014_infra.tif\n",
      "BG411_2014_infra.tif\n",
      "BG412_2014_infra.tif\n",
      "BG413_2014_infra.tif\n",
      "BG414_2014_infra.tif\n",
      "BG415_2014_infra.tif\n",
      "BG421_2014_infra.tif\n",
      "BG422_2014_infra.tif\n",
      "BG423_2014_infra.tif\n",
      "BG424_2014_infra.tif\n",
      "BG425_2014_infra.tif\n",
      "CZ010_2014_infra.tif\n",
      "CZ020_2014_infra.tif\n",
      "CZ031_2014_infra.tif\n",
      "CZ032_2014_infra.tif\n",
      "CZ041_2014_infra.tif\n",
      "CZ042_2014_infra.tif\n",
      "CZ051_2014_infra.tif\n",
      "CZ052_2014_infra.tif\n",
      "CZ053_2014_infra.tif\n",
      "CZ063_2014_infra.tif\n",
      "CZ064_2014_infra.tif\n",
      "CZ071_2014_infra.tif\n",
      "CZ072_2014_infra.tif\n",
      "CZ080_2014_infra.tif\n",
      "DE222_2014_infra.tif\n",
      "DE22A_2014_infra.tif\n",
      "DE235_2014_infra.tif\n",
      "DE402_2014_infra.tif\n",
      "DE403_2014_infra.tif\n",
      "DE406_2014_infra.tif\n",
      "DE407_2014_infra.tif\n",
      "DE409_2014_infra.tif\n",
      "DE40B_2014_infra.tif\n",
      "DE40C_2014_infra.tif\n",
      "DE40G_2014_infra.tif\n",
      "DED21_2014_infra.tif\n",
      "DED2C_2014_infra.tif\n",
      "DED2D_2014_infra.tif\n",
      "DED2E_2014_infra.tif\n",
      "DED2F_2014_infra.tif\n",
      "DED42_2014_infra.tif\n",
      "DED43_2014_infra.tif\n",
      "EL301_2014_infra.tif\n",
      "EL302_2014_infra.tif\n",
      "EL303_2014_infra.tif\n",
      "EL304_2014_infra.tif\n",
      "EL305_2014_infra.tif\n",
      "EL306_2014_infra.tif\n",
      "EL307_2014_infra.tif\n",
      "EL411_2014_infra.tif\n",
      "EL412_2014_infra.tif\n",
      "EL413_2014_infra.tif\n",
      "EL421_2014_infra-0000000000-0000000000.tif\n",
      "EL421_2014_infra-0000000000-0000011776.tif\n",
      "EL422_2014_infra.tif\n",
      "EL431_2014_infra.tif\n",
      "EL432_2014_infra.tif\n",
      "EL433_2014_infra.tif\n",
      "EL434_2014_infra.tif\n",
      "EL511_2014_infra.tif\n",
      "EL512_2014_infra.tif\n",
      "EL513_2014_infra.tif\n",
      "EL514_2014_infra.tif\n",
      "EL515_2014_infra.tif\n",
      "EL521_2014_infra.tif\n",
      "EL522_2014_infra.tif\n",
      "EL523_2014_infra.tif\n",
      "EL524_2014_infra.tif\n",
      "EL525_2014_infra.tif\n",
      "EL526_2014_infra.tif\n",
      "EL527_2014_infra.tif\n",
      "EL531_2014_infra.tif\n",
      "EL532_2014_infra.tif\n",
      "EL533_2014_infra.tif\n",
      "EL541_2014_infra.tif\n",
      "EL542_2014_infra.tif\n",
      "EL543_2014_infra.tif\n",
      "EL611_2014_infra.tif\n",
      "EL612_2014_infra.tif\n",
      "EL613_2014_infra.tif\n",
      "EL621_2014_infra.tif\n",
      "EL622_2014_infra.tif\n",
      "EL623_2014_infra.tif\n",
      "EL624_2014_infra.tif\n",
      "EL631_2014_infra.tif\n",
      "EL632_2014_infra.tif\n",
      "EL633_2014_infra.tif\n",
      "EL641_2014_infra.tif\n",
      "EL642_2014_infra.tif\n",
      "EL643_2014_infra.tif\n",
      "EL644_2014_infra.tif\n",
      "EL645_2014_infra.tif\n",
      "EL651_2014_infra.tif\n",
      "EL652_2014_infra.tif\n",
      "EL653_2014_infra.tif\n",
      "FR712_2014_infra.tif\n",
      "FR713_2014_infra.tif\n",
      "FR714_2014_infra.tif\n",
      "FR723_2014_infra.tif\n",
      "FR811_2014_infra.tif\n",
      "FR812_2014_infra.tif\n",
      "FR813_2014_infra.tif\n",
      "FR814_2014_infra.tif\n",
      "FR821_2014_infra.tif\n",
      "FR822_2014_infra.tif\n",
      "FR823_2014_infra.tif\n",
      "FR824_2014_infra.tif\n",
      "FR825_2014_infra.tif\n",
      "FR826_2014_infra.tif\n",
      "FR831_2014_infra.tif\n",
      "FR832_2014_infra.tif\n",
      "HR031_2014_infra.tif\n",
      "HR032_2014_infra.tif\n",
      "HR033_2014_infra.tif\n",
      "HR035_2014_infra.tif\n",
      "HR036_2014_infra.tif\n",
      "HR037_2014_infra.tif\n",
      "HR041_2014_infra.tif\n",
      "HR042_2014_infra.tif\n",
      "HR043_2014_infra.tif\n",
      "HR044_2014_infra.tif\n",
      "HR045_2014_infra.tif\n",
      "HR046_2014_infra.tif\n",
      "HR047_2014_infra.tif\n",
      "HR048_2014_infra.tif\n",
      "HR049_2014_infra.tif\n",
      "HR04A_2014_infra.tif\n",
      "HR04B_2014_infra.tif\n",
      "HR04C_2014_infra.tif\n",
      "HR04D_2014_infra.tif\n",
      "HR04E_2014_infra.tif\n",
      "HU101_2014_infra.tif\n",
      "HU102_2014_infra.tif\n",
      "HU211_2014_infra.tif\n",
      "HU212_2014_infra.tif\n",
      "HU213_2014_infra.tif\n",
      "HU221_2014_infra.tif\n",
      "HU222_2014_infra.tif\n",
      "HU223_2014_infra.tif\n",
      "HU231_2014_infra.tif\n",
      "HU232_2014_infra.tif\n",
      "HU233_2014_infra.tif\n",
      "HU311_2014_infra.tif\n",
      "HU312_2014_infra.tif\n",
      "HU313_2014_infra.tif\n",
      "HU321_2014_infra.tif\n",
      "HU322_2014_infra.tif\n",
      "HU323_2014_infra.tif\n",
      "HU331_2014_infra.tif\n",
      "HU332_2014_infra.tif\n",
      "HU333_2014_infra.tif\n",
      "ITC11_2014_infra.tif\n",
      "ITC16_2014_infra.tif\n",
      "ITC17_2014_infra.tif\n",
      "ITC18_2014_infra.tif\n",
      "ITC31_2014_infra.tif\n",
      "ITC32_2014_infra.tif\n",
      "ITC33_2014_infra.tif\n",
      "ITC34_2014_infra.tif\n",
      "ITF12_2014_infra.tif\n",
      "ITF13_2014_infra.tif\n",
      "ITF14_2014_infra.tif\n",
      "ITF21_2014_infra.tif\n",
      "ITF22_2014_infra.tif\n",
      "ITF31_2014_infra.tif\n",
      "ITF32_2014_infra.tif\n",
      "ITF33_2014_infra.tif\n",
      "ITF34_2014_infra.tif\n",
      "ITF35_2014_infra.tif\n",
      "ITF43_2014_infra.tif\n",
      "ITF44_2014_infra.tif\n",
      "ITF47_2014_infra.tif\n",
      "ITF48_2014_infra.tif\n",
      "ITF51_2014_infra.tif\n",
      "ITF52_2014_infra.tif\n",
      "ITF61_2014_infra.tif\n",
      "ITF62_2014_infra.tif\n",
      "ITF63_2014_infra.tif\n",
      "ITF64_2014_infra.tif\n",
      "ITF65_2014_infra.tif\n",
      "ITG11_2014_infra.tif\n",
      "ITG12_2014_infra.tif\n",
      "ITG13_2014_infra.tif\n",
      "ITG14_2014_infra.tif\n",
      "ITG15_2014_infra.tif\n",
      "ITG16_2014_infra.tif\n",
      "ITG17_2014_infra.tif\n",
      "ITG18_2014_infra.tif\n",
      "ITG19_2014_infra.tif\n",
      "ITG25_2014_infra.tif\n",
      "ITG26_2014_infra.tif\n",
      "ITG27_2014_infra.tif\n",
      "ITG29_2014_infra.tif\n",
      "ITG2A_2014_infra.tif\n",
      "ITG2B_2014_infra.tif\n",
      "ITG2C_2014_infra.tif\n",
      "ITH51_2014_infra.tif\n",
      "ITH52_2014_infra.tif\n",
      "ITH53_2014_infra.tif\n",
      "ITH54_2014_infra.tif\n",
      "ITH55_2014_infra.tif\n",
      "ITH57_2014_infra.tif\n",
      "ITH58_2014_infra.tif\n",
      "ITH59_2014_infra.tif\n",
      "ITI11_2014_infra.tif\n",
      "ITI12_2014_infra.tif\n",
      "ITI13_2014_infra.tif\n",
      "ITI14_2014_infra.tif\n",
      "ITI15_2014_infra.tif\n",
      "ITI16_2014_infra.tif\n",
      "ITI17_2014_infra.tif\n",
      "ITI18_2014_infra.tif\n",
      "ITI19_2014_infra.tif\n",
      "ITI1A_2014_infra.tif\n",
      "ITI21_2014_infra.tif\n",
      "ITI22_2014_infra.tif\n",
      "ITI31_2014_infra.tif\n",
      "ITI32_2014_infra.tif\n",
      "ITI33_2014_infra.tif\n",
      "ITI34_2014_infra.tif\n",
      "ITI35_2014_infra.tif\n",
      "ITI41_2014_infra.tif\n",
      "ITI42_2014_infra.tif\n",
      "ITI43_2014_infra.tif\n",
      "ITI44_2014_infra.tif\n",
      "ME000_2014_infra.tif\n",
      "MK001_2014_infra.tif\n",
      "MK002_2014_infra.tif\n",
      "MK003_2014_infra.tif\n",
      "MK004_2014_infra.tif\n",
      "MK005_2014_infra.tif\n",
      "MK006_2014_infra.tif\n",
      "MK007_2014_infra.tif\n",
      "MK008_2014_infra.tif\n",
      "MT001_2014_infra.tif\n",
      "MT002_2014_infra.tif\n",
      "PL113_2014_infra.tif\n",
      "PL114_2014_infra.tif\n",
      "PL115_2014_infra.tif\n",
      "PL116_2014_infra.tif\n",
      "PL117_2014_infra.tif\n",
      "PL127_2014_infra.tif\n",
      "PL128_2014_infra.tif\n",
      "PL129_2014_infra.tif\n",
      "PL12A_2014_infra.tif\n",
      "PL12B_2014_infra.tif\n",
      "PL12C_2014_infra.tif\n",
      "PL12D_2014_infra.tif\n",
      "PL12E_2014_infra.tif\n",
      "PL213_2014_infra.tif\n",
      "PL214_2014_infra.tif\n",
      "PL217_2014_infra.tif\n",
      "PL218_2014_infra.tif\n",
      "PL219_2014_infra.tif\n",
      "PL21A_2014_infra.tif\n",
      "PL224_2014_infra.tif\n",
      "PL225_2014_infra.tif\n",
      "PL227_2014_infra.tif\n",
      "PL228_2014_infra.tif\n",
      "PL229_2014_infra.tif\n",
      "PL22A_2014_infra.tif\n",
      "PL22B_2014_infra.tif\n",
      "PL22C_2014_infra.tif\n",
      "PL311_2014_infra.tif\n",
      "PL312_2014_infra.tif\n",
      "PL314_2014_infra.tif\n",
      "PL315_2014_infra.tif\n",
      "PL323_2014_infra.tif\n",
      "PL324_2014_infra.tif\n",
      "PL325_2014_infra.tif\n",
      "PL326_2014_infra.tif\n",
      "PL331_2014_infra.tif\n",
      "PL332_2014_infra.tif\n",
      "PL411_2014_infra.tif\n",
      "PL414_2014_infra.tif\n",
      "PL415_2014_infra.tif\n",
      "PL416_2014_infra.tif\n",
      "PL417_2014_infra.tif\n",
      "PL418_2014_infra.tif\n",
      "PL424_2014_infra.tif\n",
      "PL426_2014_infra.tif\n",
      "PL427_2014_infra.tif\n",
      "PL428_2014_infra.tif\n",
      "PL431_2014_infra.tif\n",
      "PL432_2014_infra.tif\n",
      "PL514_2014_infra.tif\n",
      "PL515_2014_infra.tif\n",
      "PL516_2014_infra.tif\n",
      "PL517_2014_infra.tif\n",
      "PL518_2014_infra.tif\n",
      "PL523_2014_infra.tif\n",
      "PL524_2014_infra.tif\n",
      "PL613_2014_infra.tif\n",
      "PL616_2014_infra.tif\n",
      "PL617_2014_infra.tif\n",
      "PL618_2014_infra.tif\n",
      "PL619_2014_infra.tif\n",
      "PL636_2014_infra.tif\n",
      "RO111_2014_infra.tif\n",
      "RO112_2014_infra.tif\n",
      "RO113_2014_infra.tif\n",
      "RO114_2014_infra.tif\n",
      "RO115_2014_infra.tif\n",
      "RO116_2014_infra.tif\n",
      "RO121_2014_infra.tif\n",
      "RO125_2014_infra.tif\n",
      "RO126_2014_infra.tif\n",
      "RO215_2014_infra.tif\n",
      "RO412_2014_infra.tif\n",
      "RO413_2014_infra.tif\n",
      "RO421_2014_infra.tif\n",
      "RO422_2014_infra.tif\n",
      "RO423_2014_infra.tif\n",
      "RO424_2014_infra.tif\n",
      "SI031_2014_infra.tif\n",
      "SI032_2014_infra.tif\n",
      "SI033_2014_infra.tif\n",
      "SI034_2014_infra.tif\n",
      "SI035_2014_infra.tif\n",
      "SI036_2014_infra.tif\n",
      "SI037_2014_infra.tif\n",
      "SI038_2014_infra.tif\n",
      "SI041_2014_infra.tif\n",
      "SK010_2014_infra.tif\n",
      "SK021_2014_infra.tif\n",
      "SK022_2014_infra.tif\n",
      "SK023_2014_infra.tif\n",
      "SK031_2014_infra.tif\n",
      "SK032_2014_infra.tif\n",
      "SK041_2014_infra.tif\n",
      "SK042_2014_infra.tif\n",
      "TR100_2014_infra.tif\n",
      "TR211_2014_infra.tif\n",
      "TR213_2014_infra.tif\n",
      "TR221_2014_infra.tif\n",
      "TR222_2014_infra.tif\n",
      "TR310_2014_infra.tif\n",
      "TR321_2014_infra.tif\n",
      "TR322_2014_infra.tif\n",
      "TR323_2014_infra.tif\n",
      "TR331_2014_infra.tif\n",
      "TR332_2014_infra.tif\n",
      "TR334_2014_infra.tif\n",
      "TR411_2014_infra.tif\n",
      "TR412_2014_infra.tif\n",
      "TR413_2014_infra.tif\n",
      "TR421_2014_infra.tif\n",
      "TR422_2014_infra.tif\n",
      "TR424_2014_infra.tif\n",
      "TR425_2014_infra.tif\n",
      "TR510_2014_infra.tif\n",
      "TR521_2014_infra-0000000000-0000000000.tif\n",
      "TR521_2014_infra-0000000000-0000011776.tif\n",
      "TR611_2014_infra-0000000000-0000000000.tif\n",
      "TR611_2014_infra-0000000000-0000011776.tif\n",
      "TR612_2014_infra.tif\n",
      "TR613_2014_infra.tif\n",
      "TR711_2014_infra.tif\n",
      "TR712_2014_infra.tif\n",
      "TR713_2014_infra.tif\n",
      "TR714_2014_infra.tif\n",
      "TR715_2014_infra.tif\n",
      "TR723_2014_infra.tif\n"
     ]
    },
    {
     "ename": "NameError",
     "evalue": "name 'dal' is not defined",
     "output_type": "error",
     "traceback": [
      "\u001b[0;31m---------------------------------------------------------------------------\u001b[0m",
      "\u001b[0;31mNameError\u001b[0m                                 Traceback (most recent call last)",
      "\u001b[0;32m<ipython-input-18-6ecef8056a26>\u001b[0m in \u001b[0;36m<module>\u001b[0;34m\u001b[0m\n\u001b[1;32m      1\u001b[0m \u001b[0;32mfor\u001b[0m \u001b[0mfilename\u001b[0m \u001b[0;32min\u001b[0m \u001b[0mpaths\u001b[0m\u001b[0;34m:\u001b[0m\u001b[0;34m\u001b[0m\u001b[0;34m\u001b[0m\u001b[0m\n\u001b[1;32m      2\u001b[0m     \u001b[0mprint\u001b[0m\u001b[0;34m(\u001b[0m\u001b[0mfilename\u001b[0m\u001b[0;34m)\u001b[0m\u001b[0;34m\u001b[0m\u001b[0;34m\u001b[0m\u001b[0m\n\u001b[0;32m----> 3\u001b[0;31m \u001b[0mdal\u001b[0m\u001b[0;34m\u001b[0m\u001b[0;34m\u001b[0m\u001b[0m\n\u001b[0m",
      "\u001b[0;31mNameError\u001b[0m: name 'dal' is not defined"
     ]
    }
   ],
   "source": [
    "for filename in paths:\n",
    "    print(filename)\n",
    "dal   "
   ]
  },
  {
   "cell_type": "code",
   "execution_count": 38,
   "metadata": {},
   "outputs": [],
   "source": [
    "from tqdm import tqdm\n",
    "def generate_data(filepaths, path_name):\n",
    "    X = []\n",
    "    for filename in tqdm(filepaths):\n",
    "        a = resize_and_pad(os.path.join(path_name, filename))\n",
    "        X.append(np.array(a))\n",
    "    return X"
   ]
  },
  {
   "cell_type": "code",
   "execution_count": 39,
   "metadata": {},
   "outputs": [
    {
     "name": "stderr",
     "output_type": "stream",
     "text": [
      "100%|██████████| 393/393 [24:04<00:00,  3.68s/it]\n"
     ]
    }
   ],
   "source": [
    "X = generate_data(paths, path)"
   ]
  },
  {
   "cell_type": "code",
   "execution_count": 58,
   "metadata": {},
   "outputs": [],
   "source": [
    "X_224 = []\n",
    "for x in X_three:\n",
    "    img = Image.fromarray(x)\n",
    "    ratio = float(224/max(img.size))\n",
    "    img = img.resize((int(ratio * img.size[0]), int(ratio * img.size[1])))\n",
    "    X_224.append(np.array(img))"
   ]
  },
  {
   "cell_type": "code",
   "execution_count": 62,
   "metadata": {},
   "outputs": [],
   "source": [
    "np.save(\"X_224.npy\", X_224)"
   ]
  },
  {
   "cell_type": "code",
   "execution_count": 64,
   "metadata": {},
   "outputs": [
    {
     "data": {
      "text/plain": [
       "(393, 889, 889, 3)"
      ]
     },
     "execution_count": 64,
     "metadata": {},
     "output_type": "execute_result"
    }
   ],
   "source": [
    "X_three = [x[:,:,:3] for x in X_npy]\n",
    "X_three = np.array(X_three)\n",
    "X_three.shape"
   ]
  },
  {
   "cell_type": "code",
   "execution_count": 28,
   "metadata": {},
   "outputs": [],
   "source": [
    "X_three = np.load(\"data/X_three_889.npy\")"
   ]
  },
  {
   "cell_type": "code",
   "execution_count": 5,
   "metadata": {},
   "outputs": [],
   "source": [
    "y_npy = np.load(\"data/y_density.npy\")"
   ]
  },
  {
   "cell_type": "code",
   "execution_count": 31,
   "metadata": {},
   "outputs": [
    {
     "data": {
      "text/plain": [
       "0.9921568627450981"
      ]
     },
     "execution_count": 31,
     "metadata": {},
     "output_type": "execute_result"
    }
   ],
   "source": [
    "np.max(X_div[0])"
   ]
  },
  {
   "cell_type": "code",
   "execution_count": 103,
   "metadata": {},
   "outputs": [],
   "source": [
    "\n",
    "model.compile(optimizer=opt, loss='mse')"
   ]
  },
  {
   "cell_type": "code",
   "execution_count": 80,
   "metadata": {},
   "outputs": [
    {
     "name": "stdout",
     "output_type": "stream",
     "text": [
      "Epoch 1/50\n",
      "393/393 [==============================] - 10s 25ms/step - loss: 3.8205\n",
      "Epoch 2/50\n",
      "393/393 [==============================] - 3s 7ms/step - loss: 3.6576\n",
      "Epoch 3/50\n",
      "393/393 [==============================] - 3s 7ms/step - loss: 3.5840\n",
      "Epoch 4/50\n",
      "393/393 [==============================] - 3s 7ms/step - loss: 3.8067\n",
      "Epoch 5/50\n",
      "393/393 [==============================] - 3s 7ms/step - loss: 3.5933\n",
      "Epoch 6/50\n",
      "393/393 [==============================] - 3s 7ms/step - loss: 3.8113\n",
      "Epoch 7/50\n",
      "393/393 [==============================] - 3s 7ms/step - loss: 3.7723\n",
      "Epoch 8/50\n",
      "393/393 [==============================] - 3s 7ms/step - loss: 4.0102\n",
      "Epoch 9/50\n",
      "393/393 [==============================] - 3s 7ms/step - loss: 3.9017\n",
      "Epoch 10/50\n",
      "393/393 [==============================] - 3s 7ms/step - loss: 3.8224\n",
      "Epoch 11/50\n",
      "393/393 [==============================] - 3s 7ms/step - loss: 3.9290\n",
      "Epoch 12/50\n",
      "393/393 [==============================] - 3s 7ms/step - loss: 3.8000\n",
      "Epoch 13/50\n",
      "393/393 [==============================] - 3s 7ms/step - loss: 3.7563\n",
      "Epoch 14/50\n",
      "393/393 [==============================] - 3s 7ms/step - loss: 3.6384\n",
      "Epoch 15/50\n",
      "393/393 [==============================] - 3s 7ms/step - loss: 3.5777\n",
      "Epoch 16/50\n",
      "393/393 [==============================] - 3s 7ms/step - loss: 3.5501\n",
      "Epoch 17/50\n",
      "393/393 [==============================] - 3s 7ms/step - loss: 3.5356\n",
      "Epoch 18/50\n",
      "393/393 [==============================] - 3s 7ms/step - loss: 3.7306\n",
      "Epoch 19/50\n",
      "393/393 [==============================] - 3s 7ms/step - loss: 3.4953\n",
      "Epoch 20/50\n",
      "393/393 [==============================] - 3s 7ms/step - loss: 3.6433\n",
      "Epoch 21/50\n",
      "393/393 [==============================] - 3s 7ms/step - loss: 3.6759\n",
      "Epoch 22/50\n",
      "393/393 [==============================] - 3s 7ms/step - loss: 3.4806\n",
      "Epoch 23/50\n",
      "393/393 [==============================] - 3s 7ms/step - loss: 3.3423\n",
      "Epoch 24/50\n",
      "393/393 [==============================] - 3s 7ms/step - loss: 3.4779\n",
      "Epoch 25/50\n",
      "393/393 [==============================] - 3s 7ms/step - loss: 3.4130\n",
      "Epoch 26/50\n",
      "393/393 [==============================] - 3s 7ms/step - loss: 3.6604\n",
      "Epoch 27/50\n",
      "393/393 [==============================] - 3s 7ms/step - loss: 3.6456\n",
      "Epoch 28/50\n",
      "393/393 [==============================] - 3s 7ms/step - loss: 3.6125\n",
      "Epoch 29/50\n",
      "393/393 [==============================] - 3s 7ms/step - loss: 3.4087\n",
      "Epoch 30/50\n",
      "393/393 [==============================] - 3s 7ms/step - loss: 3.4748\n",
      "Epoch 31/50\n",
      "393/393 [==============================] - 3s 7ms/step - loss: 3.2730\n",
      "Epoch 32/50\n",
      "393/393 [==============================] - 3s 7ms/step - loss: 3.3519\n",
      "Epoch 33/50\n",
      "393/393 [==============================] - 3s 7ms/step - loss: 3.6686\n",
      "Epoch 34/50\n",
      "393/393 [==============================] - 3s 7ms/step - loss: 3.3999\n",
      "Epoch 35/50\n",
      "393/393 [==============================] - 3s 7ms/step - loss: 3.6453\n",
      "Epoch 36/50\n",
      "393/393 [==============================] - 3s 7ms/step - loss: 3.5632\n",
      "Epoch 37/50\n",
      "393/393 [==============================] - 3s 7ms/step - loss: 3.5268\n",
      "Epoch 38/50\n",
      "393/393 [==============================] - 3s 7ms/step - loss: 3.2502\n",
      "Epoch 39/50\n",
      "393/393 [==============================] - 3s 7ms/step - loss: 3.4586\n",
      "Epoch 40/50\n",
      "393/393 [==============================] - 3s 7ms/step - loss: 3.3384\n",
      "Epoch 41/50\n",
      "393/393 [==============================] - 3s 7ms/step - loss: 3.4461\n",
      "Epoch 42/50\n",
      "393/393 [==============================] - 3s 7ms/step - loss: 3.2396\n",
      "Epoch 43/50\n",
      " 64/393 [===>..........................] - ETA: 2s - loss: 2.8100"
     ]
    },
    {
     "ename": "KeyboardInterrupt",
     "evalue": "",
     "output_type": "error",
     "traceback": [
      "\u001b[0;31m---------------------------------------------------------------------------\u001b[0m",
      "\u001b[0;31mKeyboardInterrupt\u001b[0m                         Traceback (most recent call last)",
      "\u001b[0;32m<ipython-input-80-73ac6e3c2013>\u001b[0m in \u001b[0;36m<module>\u001b[0;34m\u001b[0m\n\u001b[0;32m----> 1\u001b[0;31m \u001b[0mmodel\u001b[0m\u001b[0;34m.\u001b[0m\u001b[0mfit\u001b[0m\u001b[0;34m(\u001b[0m\u001b[0mX_224\u001b[0m\u001b[0;34m,\u001b[0m \u001b[0mylog\u001b[0m\u001b[0;34m,\u001b[0m \u001b[0mepochs\u001b[0m\u001b[0;34m=\u001b[0m\u001b[0;36m50\u001b[0m\u001b[0;34m)\u001b[0m\u001b[0;34m\u001b[0m\u001b[0;34m\u001b[0m\u001b[0m\n\u001b[0m",
      "\u001b[0;32m~/.local/lib/python3.6/site-packages/keras/engine/training.py\u001b[0m in \u001b[0;36mfit\u001b[0;34m(self, x, y, batch_size, epochs, verbose, callbacks, validation_split, validation_data, shuffle, class_weight, sample_weight, initial_epoch, steps_per_epoch, validation_steps, **kwargs)\u001b[0m\n\u001b[1;32m   1037\u001b[0m                                         \u001b[0minitial_epoch\u001b[0m\u001b[0;34m=\u001b[0m\u001b[0minitial_epoch\u001b[0m\u001b[0;34m,\u001b[0m\u001b[0;34m\u001b[0m\u001b[0;34m\u001b[0m\u001b[0m\n\u001b[1;32m   1038\u001b[0m                                         \u001b[0msteps_per_epoch\u001b[0m\u001b[0;34m=\u001b[0m\u001b[0msteps_per_epoch\u001b[0m\u001b[0;34m,\u001b[0m\u001b[0;34m\u001b[0m\u001b[0;34m\u001b[0m\u001b[0m\n\u001b[0;32m-> 1039\u001b[0;31m                                         validation_steps=validation_steps)\n\u001b[0m\u001b[1;32m   1040\u001b[0m \u001b[0;34m\u001b[0m\u001b[0m\n\u001b[1;32m   1041\u001b[0m     def evaluate(self, x=None, y=None,\n",
      "\u001b[0;32m~/.local/lib/python3.6/site-packages/keras/engine/training_arrays.py\u001b[0m in \u001b[0;36mfit_loop\u001b[0;34m(model, f, ins, out_labels, batch_size, epochs, verbose, callbacks, val_f, val_ins, shuffle, callback_metrics, initial_epoch, steps_per_epoch, validation_steps)\u001b[0m\n\u001b[1;32m    197\u001b[0m                     \u001b[0mins_batch\u001b[0m\u001b[0;34m[\u001b[0m\u001b[0mi\u001b[0m\u001b[0;34m]\u001b[0m \u001b[0;34m=\u001b[0m \u001b[0mins_batch\u001b[0m\u001b[0;34m[\u001b[0m\u001b[0mi\u001b[0m\u001b[0;34m]\u001b[0m\u001b[0;34m.\u001b[0m\u001b[0mtoarray\u001b[0m\u001b[0;34m(\u001b[0m\u001b[0;34m)\u001b[0m\u001b[0;34m\u001b[0m\u001b[0;34m\u001b[0m\u001b[0m\n\u001b[1;32m    198\u001b[0m \u001b[0;34m\u001b[0m\u001b[0m\n\u001b[0;32m--> 199\u001b[0;31m                 \u001b[0mouts\u001b[0m \u001b[0;34m=\u001b[0m \u001b[0mf\u001b[0m\u001b[0;34m(\u001b[0m\u001b[0mins_batch\u001b[0m\u001b[0;34m)\u001b[0m\u001b[0;34m\u001b[0m\u001b[0;34m\u001b[0m\u001b[0m\n\u001b[0m\u001b[1;32m    200\u001b[0m                 \u001b[0mouts\u001b[0m \u001b[0;34m=\u001b[0m \u001b[0mto_list\u001b[0m\u001b[0;34m(\u001b[0m\u001b[0mouts\u001b[0m\u001b[0;34m)\u001b[0m\u001b[0;34m\u001b[0m\u001b[0;34m\u001b[0m\u001b[0m\n\u001b[1;32m    201\u001b[0m                 \u001b[0;32mfor\u001b[0m \u001b[0ml\u001b[0m\u001b[0;34m,\u001b[0m \u001b[0mo\u001b[0m \u001b[0;32min\u001b[0m \u001b[0mzip\u001b[0m\u001b[0;34m(\u001b[0m\u001b[0mout_labels\u001b[0m\u001b[0;34m,\u001b[0m \u001b[0mouts\u001b[0m\u001b[0;34m)\u001b[0m\u001b[0;34m:\u001b[0m\u001b[0;34m\u001b[0m\u001b[0;34m\u001b[0m\u001b[0m\n",
      "\u001b[0;32m~/.local/lib/python3.6/site-packages/keras/backend/tensorflow_backend.py\u001b[0m in \u001b[0;36m__call__\u001b[0;34m(self, inputs)\u001b[0m\n\u001b[1;32m   2713\u001b[0m                 \u001b[0;32mreturn\u001b[0m \u001b[0mself\u001b[0m\u001b[0;34m.\u001b[0m\u001b[0m_legacy_call\u001b[0m\u001b[0;34m(\u001b[0m\u001b[0minputs\u001b[0m\u001b[0;34m)\u001b[0m\u001b[0;34m\u001b[0m\u001b[0;34m\u001b[0m\u001b[0m\n\u001b[1;32m   2714\u001b[0m \u001b[0;34m\u001b[0m\u001b[0m\n\u001b[0;32m-> 2715\u001b[0;31m             \u001b[0;32mreturn\u001b[0m \u001b[0mself\u001b[0m\u001b[0;34m.\u001b[0m\u001b[0m_call\u001b[0m\u001b[0;34m(\u001b[0m\u001b[0minputs\u001b[0m\u001b[0;34m)\u001b[0m\u001b[0;34m\u001b[0m\u001b[0;34m\u001b[0m\u001b[0m\n\u001b[0m\u001b[1;32m   2716\u001b[0m         \u001b[0;32melse\u001b[0m\u001b[0;34m:\u001b[0m\u001b[0;34m\u001b[0m\u001b[0;34m\u001b[0m\u001b[0m\n\u001b[1;32m   2717\u001b[0m             \u001b[0;32mif\u001b[0m \u001b[0mpy_any\u001b[0m\u001b[0;34m(\u001b[0m\u001b[0mis_tensor\u001b[0m\u001b[0;34m(\u001b[0m\u001b[0mx\u001b[0m\u001b[0;34m)\u001b[0m \u001b[0;32mfor\u001b[0m \u001b[0mx\u001b[0m \u001b[0;32min\u001b[0m \u001b[0minputs\u001b[0m\u001b[0;34m)\u001b[0m\u001b[0;34m:\u001b[0m\u001b[0;34m\u001b[0m\u001b[0;34m\u001b[0m\u001b[0m\n",
      "\u001b[0;32m~/.local/lib/python3.6/site-packages/keras/backend/tensorflow_backend.py\u001b[0m in \u001b[0;36m_call\u001b[0;34m(self, inputs)\u001b[0m\n\u001b[1;32m   2673\u001b[0m             \u001b[0mfetched\u001b[0m \u001b[0;34m=\u001b[0m \u001b[0mself\u001b[0m\u001b[0;34m.\u001b[0m\u001b[0m_callable_fn\u001b[0m\u001b[0;34m(\u001b[0m\u001b[0;34m*\u001b[0m\u001b[0marray_vals\u001b[0m\u001b[0;34m,\u001b[0m \u001b[0mrun_metadata\u001b[0m\u001b[0;34m=\u001b[0m\u001b[0mself\u001b[0m\u001b[0;34m.\u001b[0m\u001b[0mrun_metadata\u001b[0m\u001b[0;34m)\u001b[0m\u001b[0;34m\u001b[0m\u001b[0;34m\u001b[0m\u001b[0m\n\u001b[1;32m   2674\u001b[0m         \u001b[0;32melse\u001b[0m\u001b[0;34m:\u001b[0m\u001b[0;34m\u001b[0m\u001b[0;34m\u001b[0m\u001b[0m\n\u001b[0;32m-> 2675\u001b[0;31m             \u001b[0mfetched\u001b[0m \u001b[0;34m=\u001b[0m \u001b[0mself\u001b[0m\u001b[0;34m.\u001b[0m\u001b[0m_callable_fn\u001b[0m\u001b[0;34m(\u001b[0m\u001b[0;34m*\u001b[0m\u001b[0marray_vals\u001b[0m\u001b[0;34m)\u001b[0m\u001b[0;34m\u001b[0m\u001b[0;34m\u001b[0m\u001b[0m\n\u001b[0m\u001b[1;32m   2676\u001b[0m         \u001b[0;32mreturn\u001b[0m \u001b[0mfetched\u001b[0m\u001b[0;34m[\u001b[0m\u001b[0;34m:\u001b[0m\u001b[0mlen\u001b[0m\u001b[0;34m(\u001b[0m\u001b[0mself\u001b[0m\u001b[0;34m.\u001b[0m\u001b[0moutputs\u001b[0m\u001b[0;34m)\u001b[0m\u001b[0;34m]\u001b[0m\u001b[0;34m\u001b[0m\u001b[0;34m\u001b[0m\u001b[0m\n\u001b[1;32m   2677\u001b[0m \u001b[0;34m\u001b[0m\u001b[0m\n",
      "\u001b[0;32m~/.local/lib/python3.6/site-packages/tensorflow/python/client/session.py\u001b[0m in \u001b[0;36m__call__\u001b[0;34m(self, *args)\u001b[0m\n\u001b[1;32m   1449\u001b[0m         \u001b[0;32mif\u001b[0m \u001b[0mself\u001b[0m\u001b[0;34m.\u001b[0m\u001b[0m_session\u001b[0m\u001b[0;34m.\u001b[0m\u001b[0m_created_with_new_api\u001b[0m\u001b[0;34m:\u001b[0m\u001b[0;34m\u001b[0m\u001b[0;34m\u001b[0m\u001b[0m\n\u001b[1;32m   1450\u001b[0m           return tf_session.TF_SessionRunCallable(\n\u001b[0;32m-> 1451\u001b[0;31m               self._session._session, self._handle, args, status, None)\n\u001b[0m\u001b[1;32m   1452\u001b[0m         \u001b[0;32melse\u001b[0m\u001b[0;34m:\u001b[0m\u001b[0;34m\u001b[0m\u001b[0;34m\u001b[0m\u001b[0m\n\u001b[1;32m   1453\u001b[0m           return tf_session.TF_DeprecatedSessionRunCallable(\n",
      "\u001b[0;31mKeyboardInterrupt\u001b[0m: "
     ]
    }
   ],
   "source": [
    "model.fit(X_224, ylog, epochs=50)"
   ]
  },
  {
   "cell_type": "code",
   "execution_count": 123,
   "metadata": {},
   "outputs": [
    {
     "data": {
      "text/plain": [
       "array([[-20.710573 ],\n",
       "       [-19.22248  ],\n",
       "       [ -4.143146 ],\n",
       "       [  4.0577025],\n",
       "       [ 16.204266 ]], dtype=float32)"
      ]
     },
     "execution_count": 123,
     "metadata": {},
     "output_type": "execute_result"
    }
   ],
   "source": [
    "model.predict(X_224[:5])"
   ]
  },
  {
   "cell_type": "code",
   "execution_count": 124,
   "metadata": {},
   "outputs": [
    {
     "data": {
      "text/plain": [
       "array([3.99083419, 4.60816569, 4.20618404, 4.29456061, 4.33073334])"
      ]
     },
     "execution_count": 124,
     "metadata": {},
     "output_type": "execute_result"
    }
   ],
   "source": [
    "ylog[:5]"
   ]
  },
  {
   "cell_type": "markdown",
   "metadata": {},
   "source": [
    "# Testing"
   ]
  },
  {
   "cell_type": "code",
   "execution_count": 146,
   "metadata": {},
   "outputs": [
    {
     "name": "stdout",
     "output_type": "stream",
     "text": [
      "here\n"
     ]
    }
   ],
   "source": [
    "model2 = create_model((224, 224, 3))"
   ]
  },
  {
   "cell_type": "code",
   "execution_count": 148,
   "metadata": {},
   "outputs": [],
   "source": [
    "opt = SGD(lr=1e-7, decay=1e-6)\n",
    "model2.compile(optimizer=opt, loss='mse')"
   ]
  },
  {
   "cell_type": "code",
   "execution_count": 130,
   "metadata": {},
   "outputs": [],
   "source": [
    "X_small = X_224[:50]\n",
    "y_small = ylog[:50]"
   ]
  },
  {
   "cell_type": "code",
   "execution_count": 170,
   "metadata": {
    "scrolled": true
   },
   "outputs": [
    {
     "name": "stdout",
     "output_type": "stream",
     "text": [
      "Epoch 1/50\n",
      "10/10 [==============================] - 0s 11ms/step - loss: 0.0052\n",
      "Epoch 2/50\n",
      "10/10 [==============================] - 0s 12ms/step - loss: 0.0051\n",
      "Epoch 3/50\n",
      "10/10 [==============================] - 0s 11ms/step - loss: 0.0050\n",
      "Epoch 4/50\n",
      "10/10 [==============================] - 0s 11ms/step - loss: 0.0050\n",
      "Epoch 5/50\n",
      "10/10 [==============================] - 0s 11ms/step - loss: 0.0049\n",
      "Epoch 6/50\n",
      "10/10 [==============================] - 0s 11ms/step - loss: 0.0048\n",
      "Epoch 7/50\n",
      "10/10 [==============================] - 0s 11ms/step - loss: 0.0048\n",
      "Epoch 8/50\n",
      "10/10 [==============================] - 0s 11ms/step - loss: 0.0047\n",
      "Epoch 9/50\n",
      "10/10 [==============================] - 0s 14ms/step - loss: 0.0047\n",
      "Epoch 10/50\n",
      "10/10 [==============================] - 0s 11ms/step - loss: 0.0046\n",
      "Epoch 11/50\n",
      "10/10 [==============================] - 0s 12ms/step - loss: 0.0045\n",
      "Epoch 12/50\n",
      "10/10 [==============================] - 0s 11ms/step - loss: 0.0045\n",
      "Epoch 13/50\n",
      "10/10 [==============================] - 0s 11ms/step - loss: 0.0044\n",
      "Epoch 14/50\n",
      "10/10 [==============================] - 0s 11ms/step - loss: 0.0044\n",
      "Epoch 15/50\n",
      "10/10 [==============================] - 0s 11ms/step - loss: 0.0043\n",
      "Epoch 16/50\n",
      "10/10 [==============================] - 0s 12ms/step - loss: 0.0043\n",
      "Epoch 17/50\n",
      "10/10 [==============================] - 0s 11ms/step - loss: 0.0042\n",
      "Epoch 18/50\n",
      "10/10 [==============================] - 0s 11ms/step - loss: 0.0041\n",
      "Epoch 19/50\n",
      "10/10 [==============================] - 0s 11ms/step - loss: 0.0041\n",
      "Epoch 20/50\n",
      "10/10 [==============================] - 0s 11ms/step - loss: 0.0040\n",
      "Epoch 21/50\n",
      "10/10 [==============================] - 0s 11ms/step - loss: 0.0040\n",
      "Epoch 22/50\n",
      "10/10 [==============================] - 0s 11ms/step - loss: 0.0039\n",
      "Epoch 23/50\n",
      "10/10 [==============================] - 0s 11ms/step - loss: 0.0039\n",
      "Epoch 24/50\n",
      "10/10 [==============================] - 0s 11ms/step - loss: 0.0038\n",
      "Epoch 25/50\n",
      "10/10 [==============================] - 0s 11ms/step - loss: 0.0038\n",
      "Epoch 26/50\n",
      "10/10 [==============================] - 0s 11ms/step - loss: 0.0037\n",
      "Epoch 27/50\n",
      "10/10 [==============================] - 0s 11ms/step - loss: 0.0037\n",
      "Epoch 28/50\n",
      "10/10 [==============================] - 0s 13ms/step - loss: 0.0036\n",
      "Epoch 29/50\n",
      "10/10 [==============================] - 0s 11ms/step - loss: 0.0036\n",
      "Epoch 30/50\n",
      "10/10 [==============================] - 0s 11ms/step - loss: 0.0036\n",
      "Epoch 31/50\n",
      "10/10 [==============================] - 0s 11ms/step - loss: 0.0035\n",
      "Epoch 32/50\n",
      "10/10 [==============================] - 0s 11ms/step - loss: 0.0035\n",
      "Epoch 33/50\n",
      "10/10 [==============================] - 0s 12ms/step - loss: 0.0034\n",
      "Epoch 34/50\n",
      "10/10 [==============================] - 0s 11ms/step - loss: 0.0034\n",
      "Epoch 35/50\n",
      "10/10 [==============================] - 0s 11ms/step - loss: 0.0033\n",
      "Epoch 36/50\n",
      "10/10 [==============================] - 0s 11ms/step - loss: 0.0033\n",
      "Epoch 37/50\n",
      "10/10 [==============================] - 0s 11ms/step - loss: 0.0032\n",
      "Epoch 38/50\n",
      "10/10 [==============================] - 0s 11ms/step - loss: 0.0032\n",
      "Epoch 39/50\n",
      "10/10 [==============================] - 0s 11ms/step - loss: 0.0032\n",
      "Epoch 40/50\n",
      "10/10 [==============================] - 0s 11ms/step - loss: 0.0031\n",
      "Epoch 41/50\n",
      "10/10 [==============================] - 0s 11ms/step - loss: 0.0031\n",
      "Epoch 42/50\n",
      "10/10 [==============================] - 0s 11ms/step - loss: 0.0031\n",
      "Epoch 43/50\n",
      "10/10 [==============================] - 0s 11ms/step - loss: 0.0030\n",
      "Epoch 44/50\n",
      "10/10 [==============================] - 0s 11ms/step - loss: 0.0030\n",
      "Epoch 45/50\n",
      "10/10 [==============================] - 0s 11ms/step - loss: 0.0029\n",
      "Epoch 46/50\n",
      "10/10 [==============================] - 0s 11ms/step - loss: 0.0029\n",
      "Epoch 47/50\n",
      "10/10 [==============================] - 0s 11ms/step - loss: 0.0029\n",
      "Epoch 48/50\n",
      "10/10 [==============================] - 0s 11ms/step - loss: 0.0028\n",
      "Epoch 49/50\n",
      "10/10 [==============================] - 0s 13ms/step - loss: 0.0028\n",
      "Epoch 50/50\n",
      "10/10 [==============================] - 0s 11ms/step - loss: 0.0028\n"
     ]
    },
    {
     "data": {
      "text/plain": [
       "<keras.callbacks.History at 0x7fd08adb43c8>"
      ]
     },
     "execution_count": 170,
     "metadata": {},
     "output_type": "execute_result"
    }
   ],
   "source": [
    "model2.fit(X_small, y_small, epochs=50)"
   ]
  },
  {
   "cell_type": "code",
   "execution_count": 145,
   "metadata": {},
   "outputs": [
    {
     "name": "stdout",
     "output_type": "stream",
     "text": [
      "383/383 [==============================] - 8s 22ms/step\n"
     ]
    },
    {
     "data": {
      "text/plain": [
       "11.907031087900267"
      ]
     },
     "execution_count": 145,
     "metadata": {},
     "output_type": "execute_result"
    }
   ],
   "source": [
    "model.evaluate(X_224[10:], ylog[10:])"
   ]
  },
  {
   "cell_type": "code",
   "execution_count": 171,
   "metadata": {},
   "outputs": [
    {
     "data": {
      "text/plain": [
       "array([[ 1.6926755 ],\n",
       "       [ 0.02974572],\n",
       "       [ 0.56700057],\n",
       "       [-0.22696781],\n",
       "       [ 0.76184356],\n",
       "       [ 5.0818806 ],\n",
       "       [ 0.42683157],\n",
       "       [ 2.040916  ],\n",
       "       [ 0.69119257],\n",
       "       [ 0.23649588]], dtype=float32)"
      ]
     },
     "execution_count": 171,
     "metadata": {},
     "output_type": "execute_result"
    }
   ],
   "source": [
    "model2.predict(X_224[50:60])"
   ]
  },
  {
   "cell_type": "code",
   "execution_count": 172,
   "metadata": {},
   "outputs": [
    {
     "data": {
      "text/plain": [
       "array([5.11439453, 4.80484038, 5.00863329, 5.43633866, 6.6394836 ,\n",
       "       4.52720864, 4.41763506, 6.40241459, 5.99545657, 4.29182837])"
      ]
     },
     "execution_count": 172,
     "metadata": {},
     "output_type": "execute_result"
    }
   ],
   "source": [
    "ylog[50:60]"
   ]
  },
  {
   "cell_type": "code",
   "execution_count": 173,
   "metadata": {},
   "outputs": [
    {
     "data": {
      "text/plain": [
       "array([[4.0773425],\n",
       "       [4.610155 ],\n",
       "       [4.3328876],\n",
       "       [4.1932945],\n",
       "       [4.185093 ],\n",
       "       [4.853313 ],\n",
       "       [3.8174763],\n",
       "       [3.9140508],\n",
       "       [4.688249 ],\n",
       "       [5.346055 ]], dtype=float32)"
      ]
     },
     "execution_count": 173,
     "metadata": {},
     "output_type": "execute_result"
    }
   ],
   "source": [
    "model2.predict(X_224[:10])"
   ]
  },
  {
   "cell_type": "code",
   "execution_count": 174,
   "metadata": {},
   "outputs": [
    {
     "data": {
      "text/plain": [
       "array([3.99083419, 4.60816569, 4.20618404, 4.29456061, 4.33073334,\n",
       "       4.81543111, 3.8691155 , 3.94352167, 4.77322377, 5.42495002])"
      ]
     },
     "execution_count": 174,
     "metadata": {},
     "output_type": "execute_result"
    }
   ],
   "source": [
    "ylog[:10]"
   ]
  },
  {
   "cell_type": "markdown",
   "metadata": {},
   "source": [
    "# Datagen stuff here"
   ]
  },
  {
   "cell_type": "code",
   "execution_count": null,
   "metadata": {},
   "outputs": [],
   "source": []
  },
  {
   "cell_type": "code",
   "execution_count": 90,
   "metadata": {},
   "outputs": [],
   "source": [
    "from keras.preprocessing.image import ImageDataGenerator"
   ]
  },
  {
   "cell_type": "code",
   "execution_count": 91,
   "metadata": {},
   "outputs": [],
   "source": [
    "datagen = ImageDataGenerator(\n",
    "    featurewise_center=True,\n",
    "    featurewise_std_normalization=True,\n",
    "    rotation_range=20,\n",
    "    width_shift_range=0.2,\n",
    "    height_shift_range=0.2,\n",
    "    horizontal_flip=True)"
   ]
  },
  {
   "cell_type": "code",
   "execution_count": 92,
   "metadata": {},
   "outputs": [],
   "source": [
    "datagen.fit(X_224)\n"
   ]
  },
  {
   "cell_type": "code",
   "execution_count": 113,
   "metadata": {},
   "outputs": [],
   "source": [
    "opt = SGD(lr=1e-9, decay=1e-6)\n",
    "\n",
    "model.compile(optimizer=opt, loss='mse')"
   ]
  },
  {
   "cell_type": "code",
   "execution_count": null,
   "metadata": {},
   "outputs": [
    {
     "name": "stdout",
     "output_type": "stream",
     "text": [
      "Epoch 1/20\n",
      "13/12 [===============================] - 21s 2s/step - loss: 7.1333\n",
      "Epoch 2/20\n",
      "13/12 [===============================] - 5s 373ms/step - loss: 6.4525\n",
      "Epoch 3/20\n",
      "13/12 [===============================] - 5s 350ms/step - loss: 6.6590\n",
      "Epoch 4/20\n",
      "13/12 [===============================] - 4s 345ms/step - loss: 6.6352\n",
      "Epoch 5/20\n",
      " 8/12 [==================>...........] - ETA: 1s - loss: 6.6737"
     ]
    }
   ],
   "source": [
    "epochs=20\n",
    "model.fit_generator(datagen.flow(X_224, ylog, batch_size=32),\n",
    "                    steps_per_epoch=len(X_224) / 32, epochs=epochs)"
   ]
  },
  {
   "cell_type": "code",
   "execution_count": 109,
   "metadata": {},
   "outputs": [
    {
     "data": {
      "text/plain": [
       "array([[  9.477249 ],\n",
       "       [ 46.751263 ],\n",
       "       [131.84785  ],\n",
       "       [ -1.5433135],\n",
       "       [ 27.43431  ]], dtype=float32)"
      ]
     },
     "execution_count": 109,
     "metadata": {},
     "output_type": "execute_result"
    }
   ],
   "source": [
    "model.predict(X_224[10:15])"
   ]
  },
  {
   "cell_type": "code",
   "execution_count": 110,
   "metadata": {},
   "outputs": [
    {
     "data": {
      "text/plain": [
       "array([8.41438497, 4.96424225, 3.43075618, 3.81109709, 5.83947819])"
      ]
     },
     "execution_count": 110,
     "metadata": {},
     "output_type": "execute_result"
    }
   ],
   "source": [
    "ylog[10:15]"
   ]
  },
  {
   "cell_type": "code",
   "execution_count": null,
   "metadata": {},
   "outputs": [],
   "source": []
  }
 ],
 "metadata": {
  "kernelspec": {
   "display_name": "Python 3",
   "language": "python",
   "name": "python3"
  },
  "language_info": {
   "codemirror_mode": {
    "name": "ipython",
    "version": 3
   },
   "file_extension": ".py",
   "mimetype": "text/x-python",
   "name": "python",
   "nbconvert_exporter": "python",
   "pygments_lexer": "ipython3",
   "version": "3.6.7"
  }
 },
 "nbformat": 4,
 "nbformat_minor": 2
}
