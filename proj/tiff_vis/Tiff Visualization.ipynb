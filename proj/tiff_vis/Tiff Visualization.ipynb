{
 "cells": [
  {
   "cell_type": "code",
   "execution_count": 1,
   "metadata": {},
   "outputs": [],
   "source": [
    "import numpy as np\n",
    "from osgeo import gdal\n",
    "import matplotlib.pyplot as plt"
   ]
  },
  {
   "cell_type": "code",
   "execution_count": 35,
   "metadata": {},
   "outputs": [],
   "source": [
    "contents = !ls /datasets/data/earthengine\n",
    "contents = list(filter(lambda x: x.split(\".\")[-1] == \"tif\", contents))\n",
    "start = \"/datasets/data/earthengine/\"\n",
    "path = start+ contents[0]\n"
   ]
  },
  {
   "cell_type": "code",
   "execution_count": 36,
   "metadata": {},
   "outputs": [],
   "source": [
    "def get_shape(path):\n",
    "    ds = gdal.Open(path)\n",
    "    im = ds.ReadAsArray()\n",
    "    im = np.nan_to_num(im)\n",
    "    return im.shape"
   ]
  },
  {
   "cell_type": "code",
   "execution_count": 37,
   "metadata": {},
   "outputs": [
    {
     "data": {
      "text/plain": [
       "(-919.0, 8511.0)"
      ]
     },
     "execution_count": 37,
     "metadata": {},
     "output_type": "execute_result"
    }
   ],
   "source": [
    "ds = gdal.Open(path)\n",
    "im = ds.ReadAsArray()\n",
    "im = np.nan_to_num(im)\n",
    "np.min(im), np.max(im)"
   ]
  },
  {
   "cell_type": "code",
   "execution_count": 39,
   "metadata": {
    "scrolled": true
   },
   "outputs": [
    {
     "name": "stdout",
     "output_type": "stream",
     "text": [
      "(3, 4921, 6076)\n",
      "(3, 5298, 4397)\n",
      "(3, 2862, 6058)\n",
      "(3, 3673, 4036)\n",
      "(3, 2889, 9914)\n",
      "(3, 2804, 6317)\n",
      "(3, 2761, 3913)\n",
      "(3, 1856, 3243)\n",
      "(3, 1762, 3850)\n",
      "(3, 5214, 6591)\n",
      "(3, 2691, 5401)\n",
      "(3, 5850, 6317)\n",
      "(3, 5593, 7793)\n",
      "(3, 6708, 9498)\n",
      "(3, 4751, 5664)\n",
      "(3, 4014, 5854)\n",
      "(3, 6486, 6747)\n",
      "(3, 4488, 8693)\n",
      "(3, 4833, 4239)\n",
      "(3, 3917, 6834)\n",
      "(3, 3536, 5631)\n",
      "(3, 4044, 6588)\n",
      "(3, 4520, 5717)\n",
      "(3, 4218, 6696)\n",
      "(3, 5198, 7301)\n",
      "(3, 4580, 8940)\n",
      "(3, 5315, 7526)\n",
      "(3, 4362, 7442)\n",
      "(3, 3934, 9270)\n",
      "(3, 5606, 9976)\n",
      "(3, 5400, 9621)\n",
      "(3, 4182, 5266)\n",
      "(3, 3142, 5930)\n",
      "(3, 5891, 5697)\n",
      "(3, 3932, 5519)\n",
      "(3, 3873, 4921)\n",
      "(3, 3984, 5053)\n",
      "(3, 5660, 5721)\n",
      "(3, 1770, 1710)\n",
      "(3, 3107, 4360)\n",
      "(3, 1040, 1992)\n",
      "(3, 4587, 5605)\n",
      "(3, 3880, 5033)\n",
      "(3, 5733, 5882)\n",
      "(3, 5162, 7868)\n",
      "(3, 5245, 5191)\n",
      "(3, 4285, 6874)\n",
      "(3, 3607, 6850)\n",
      "(3, 5028, 6997)\n",
      "(3, 5121, 6097)\n",
      "(3, 172, 386)\n",
      "(3, 202, 160)\n",
      "(3, 785, 1032)\n",
      "(3, 2677, 2597)\n",
      "(3, 1655, 1767)\n",
      "(3, 736, 929)\n",
      "(3, 1501, 1052)\n",
      "(3, 2144, 1716)\n",
      "(3, 2188, 2986)\n",
      "(3, 4245, 5530)\n",
      "(3, 5114, 5852)\n",
      "(3, 3877, 6167)\n",
      "(3, 2933, 4524)\n",
      "(3, 3041, 6738)\n",
      "(3, 2763, 5010)\n",
      "(3, 4643, 5980)\n",
      "(3, 4566, 5963)\n",
      "(3, 2855, 5506)\n",
      "(3, 3130, 4563)\n",
      "(3, 3484, 3601)\n",
      "(3, 3038, 5202)\n",
      "(3, 2324, 4685)\n",
      "(3, 3136, 4831)\n",
      "(3, 3221, 4857)\n",
      "(3, 2171, 5405)\n",
      "(3, 2035, 2958)\n",
      "(3, 1507, 2845)\n",
      "(3, 1478, 3098)\n",
      "(3, 2648, 2597)\n",
      "(3, 1991, 3521)\n",
      "(3, 1952, 2233)\n",
      "(3, 2655, 4577)\n",
      "(3, 2965, 4369)\n",
      "(3, 2104, 5940)\n",
      "(3, 3041, 2419)\n",
      "(3, 2155, 1992)\n",
      "(3, 2213, 4362)\n",
      "(3, 2318, 3460)\n",
      "(3, 2566, 3384)\n",
      "(3, 2921, 4543)\n",
      "(3, 2654, 3544)\n",
      "(3, 3928, 3964)\n",
      "(3, 2429, 3747)\n",
      "(3, 4376, 2903)\n",
      "(3, 3757, 5697)\n",
      "(3, 2783, 3268)\n",
      "(3, 3384, 5166)\n",
      "(3, 3238, 5756)\n",
      "(3, 11011, 5227)\n"
     ]
    }
   ],
   "source": [
    "vals = []\n",
    "for path in contents:\n",
    "    path = start + path\n",
    "    x = get_shape(path)\n",
    "    print(x)\n",
    "    vals.append(x)"
   ]
  },
  {
   "cell_type": "code",
   "execution_count": 48,
   "metadata": {},
   "outputs": [],
   "source": [
    "xs = list(list(zip(*vals))[1])\n",
    "ys = list(list(zip(*vals))[2])\n"
   ]
  },
  {
   "cell_type": "code",
   "execution_count": 54,
   "metadata": {},
   "outputs": [
    {
     "name": "stdout",
     "output_type": "stream",
     "text": [
      "172 11011\n"
     ]
    },
    {
     "data": {
      "image/png": "[encoded data removed]",
      "text/plain": [
       "<matplotlib.figure.Figure at 0x7fb0bc95e128>"
      ]
     },
     "metadata": {},
     "output_type": "display_data"
    }
   ],
   "source": [
    "plt.hist(xs)\n",
    "print(min(xs), max(xs))\n",
    "plt.show()"
   ]
  },
  {
   "cell_type": "code",
   "execution_count": 55,
   "metadata": {},
   "outputs": [
    {
     "name": "stdout",
     "output_type": "stream",
     "text": [
      "160 9976\n"
     ]
    },
    {
     "data": {
      "image/png": "[encoded data removed]",
      "text/plain": [
       "<matplotlib.figure.Figure at 0x7fb0bd1e52e8>"
      ]
     },
     "metadata": {},
     "output_type": "display_data"
    }
   ],
   "source": [
    "plt.hist(ys)\n",
    "print(min(ys), max(ys))\n",
    "plt.show()"
   ]
  },
  {
   "cell_type": "code",
   "execution_count": 57,
   "metadata": {},
   "outputs": [
    {
     "data": {
      "text/plain": [
       "3555.787878787879"
      ]
     },
     "execution_count": 57,
     "metadata": {},
     "output_type": "execute_result"
    }
   ],
   "source": [
    "np.mean(np.array(xs))"
   ]
  },
  {
   "cell_type": "code",
   "execution_count": 13,
   "metadata": {
    "collapsed": true
   },
   "outputs": [],
   "source": [
    "from skimage import data, io\n"
   ]
  },
  {
   "cell_type": "code",
   "execution_count": 14,
   "metadata": {},
   "outputs": [
    {
     "name": "stderr",
     "output_type": "stream",
     "text": [
      "/Users/catherinecang/anaconda/lib/python3.6/site-packages/skimage/io/_plugins/matplotlib_plugin.py:77: UserWarning: Float image out of standard range; displaying image with stretched contrast.\n",
      "  warn(\"Float image out of standard range; displaying \"\n",
      "Clipping input data to the valid range for imshow with RGB data ([0..1] for floats or [0..255] for integers).\n",
      "/Users/catherinecang/anaconda/lib/python3.6/site-packages/matplotlib/axes/_base.py:1334: MatplotlibDeprecationWarning: \n",
      "box-forced\n",
      "  \"2.2\", \"box-forced\", obj_type=\"keyword argument\")\n"
     ]
    },
    {
     "data": {
      "text/plain": [
       "<matplotlib.image.AxesImage at 0x1437d70b8>"
      ]
     },
     "execution_count": 14,
     "metadata": {},
     "output_type": "execute_result"
    }
   ],
   "source": [
    "io.imshow(np.stack(im, axis=2))"
   ]
  },
  {
   "cell_type": "code",
   "execution_count": null,
   "metadata": {},
   "outputs": [],
   "source": []
  },
  {
   "cell_type": "code",
   "execution_count": 15,
   "metadata": {},
   "outputs": [
    {
     "name": "stderr",
     "output_type": "stream",
     "text": [
      "/Users/catherinecang/anaconda/lib/python3.6/site-packages/matplotlib/axes/_base.py:1334: MatplotlibDeprecationWarning: \n",
      "box-forced\n",
      "  \"2.2\", \"box-forced\", obj_type=\"keyword argument\")\n"
     ]
    },
    {
     "data": {
      "image/png": "[encoded data removed]",
      "text/plain": [
       "<Figure size 432x288 with 2 Axes>"
      ]
     },
     "metadata": {},
     "output_type": "display_data"
    }
   ],
   "source": [
    "plt.imshow(np.stack(im.astype('uint8'), axis=2))\n",
    "plt.show()"
   ]
  },
  {
   "cell_type": "code",
   "execution_count": null,
   "metadata": {
    "collapsed": true
   },
   "outputs": [],
   "source": []
  }
 ],
 "metadata": {
  "kernelspec": {
   "display_name": "Python 3",
   "language": "python",
   "name": "python3"
  },
  "language_info": {
   "codemirror_mode": {
    "name": "ipython",
    "version": 3
   },
   "file_extension": ".py",
   "mimetype": "text/x-python",
   "name": "python",
   "nbconvert_exporter": "python",
   "pygments_lexer": "ipython3",
   "version": "3.6.7"
  }
 },
 "nbformat": 4,
 "nbformat_minor": 2
}
