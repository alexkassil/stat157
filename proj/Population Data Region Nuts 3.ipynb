{
 "cells": [
  {
   "cell_type": "code",
   "execution_count": 156,
   "metadata": {
    "collapsed": true
   },
   "outputs": [],
   "source": [
    "import pandas as pd\n",
    "import numpy as np"
   ]
  },
  {
   "cell_type": "code",
   "execution_count": 157,
   "metadata": {
    "collapsed": true
   },
   "outputs": [],
   "source": [
    "data_dir = \"./data/demo_r_gind3_1_Data.csv\""
   ]
  },
  {
   "cell_type": "code",
   "execution_count": 169,
   "metadata": {
    "collapsed": false
   },
   "outputs": [
    {
     "data": {
      "text/html": [
       "<div>\n",
       "<table border=\"1\" class=\"dataframe\">\n",
       "  <thead>\n",
       "    <tr style=\"text-align: right;\">\n",
       "      <th></th>\n",
       "      <th>Year</th>\n",
       "      <th>GEO</th>\n",
       "      <th>GEO_LABEL</th>\n",
       "      <th>Value</th>\n",
       "    </tr>\n",
       "  </thead>\n",
       "  <tbody>\n",
       "    <tr>\n",
       "      <th>0</th>\n",
       "      <td>2000</td>\n",
       "      <td>BE</td>\n",
       "      <td>Belgium</td>\n",
       "      <td>10,239,085</td>\n",
       "    </tr>\n",
       "    <tr>\n",
       "      <th>1</th>\n",
       "      <td>2000</td>\n",
       "      <td>BE1</td>\n",
       "      <td>Région de Bruxelles-Capitale / Brussels Hoofds...</td>\n",
       "      <td>959,318</td>\n",
       "    </tr>\n",
       "    <tr>\n",
       "      <th>2</th>\n",
       "      <td>2000</td>\n",
       "      <td>BE10</td>\n",
       "      <td>Région de Bruxelles-Capitale / Brussels Hoofds...</td>\n",
       "      <td>959,318</td>\n",
       "    </tr>\n",
       "    <tr>\n",
       "      <th>3</th>\n",
       "      <td>2000</td>\n",
       "      <td>BE100</td>\n",
       "      <td>Arr. de Bruxelles-Capitale / Arr. van Brussel-...</td>\n",
       "      <td>959,318</td>\n",
       "    </tr>\n",
       "    <tr>\n",
       "      <th>4</th>\n",
       "      <td>2000</td>\n",
       "      <td>BE2</td>\n",
       "      <td>Vlaams Gewest</td>\n",
       "      <td>5,940,251</td>\n",
       "    </tr>\n",
       "  </tbody>\n",
       "</table>\n",
       "</div>"
      ],
      "text/plain": [
       "   Year    GEO                                          GEO_LABEL       Value\n",
       "0  2000     BE                                            Belgium  10,239,085\n",
       "1  2000    BE1  Région de Bruxelles-Capitale / Brussels Hoofds...     959,318\n",
       "2  2000   BE10  Région de Bruxelles-Capitale / Brussels Hoofds...     959,318\n",
       "3  2000  BE100  Arr. de Bruxelles-Capitale / Arr. van Brussel-...     959,318\n",
       "4  2000    BE2                                      Vlaams Gewest   5,940,251"
      ]
     },
     "execution_count": 169,
     "metadata": {},
     "output_type": "execute_result"
    }
   ],
   "source": [
    "\n",
    "\n",
    "data = pd.DataFrame.from_csv(data_dir, encoding = \"ISO-8859-1\")\n",
    "data.index = pd.Index(map(lambda x: x.year, data.index))\n",
    "data = data.reset_index()\n",
    "data = data.drop([data.columns[3], data.columns[5]], axis=1)\n",
    "data = data.rename(columns={\"index\": \"Year\"})\n",
    "data.head()"
   ]
  },
  {
   "cell_type": "code",
   "execution_count": 195,
   "metadata": {
    "collapsed": false
   },
   "outputs": [
    {
     "data": {
      "text/plain": [
       "'10,239,085'"
      ]
     },
     "execution_count": 195,
     "metadata": {},
     "output_type": "execute_result"
    }
   ],
   "source": [
    "# Get BE Year 2000\n",
    "data[(data[\"Year\"] == 2000) & (data[\"GEO\"] == \"BE\")].iloc[0].Value"
   ]
  },
  {
   "cell_type": "code",
   "execution_count": 196,
   "metadata": {
    "collapsed": false,
    "scrolled": true
   },
   "outputs": [
    {
     "data": {
      "text/plain": [
       "'10,263,414'"
      ]
     },
     "execution_count": 196,
     "metadata": {},
     "output_type": "execute_result"
    }
   ],
   "source": [
    "# Get BE Year 2001\n",
    "data[(data[\"Year\"] == 2001) & (data[\"GEO\"] == \"BE\")].iloc[0].Value"
   ]
  },
  {
   "cell_type": "code",
   "execution_count": null,
   "metadata": {
    "collapsed": false
   },
   "outputs": [],
   "source": []
  },
  {
   "cell_type": "code",
   "execution_count": 175,
   "metadata": {
    "collapsed": false
   },
   "outputs": [
    {
     "data": {
      "text/html": [
       "<div>\n",
       "<table border=\"1\" class=\"dataframe\">\n",
       "  <thead>\n",
       "    <tr style=\"text-align: right;\">\n",
       "      <th></th>\n",
       "      <th>Value</th>\n",
       "    </tr>\n",
       "    <tr>\n",
       "      <th>GEO</th>\n",
       "      <th></th>\n",
       "    </tr>\n",
       "  </thead>\n",
       "  <tbody>\n",
       "    <tr>\n",
       "      <th>AL</th>\n",
       "      <td>[3,058,497, 3,063,318, 3,057,018, 3,044,993, 3...</td>\n",
       "    </tr>\n",
       "    <tr>\n",
       "      <th>AL0</th>\n",
       "      <td>[:, :, 3,057,018, 3,044,993, 3,034,231, 3,019,...</td>\n",
       "    </tr>\n",
       "    <tr>\n",
       "      <th>AL01</th>\n",
       "      <td>[:, :, :, :, :, :, :, :, :, :, :, :, 861,058, ...</td>\n",
       "    </tr>\n",
       "    <tr>\n",
       "      <th>AL011</th>\n",
       "      <td>[:, :, :, :, :, :, :, :, :, :, :, :, 140,956, ...</td>\n",
       "    </tr>\n",
       "    <tr>\n",
       "      <th>AL012</th>\n",
       "      <td>[:, :, :, :, :, :, :, :, :, :, :, :, 271,947, ...</td>\n",
       "    </tr>\n",
       "  </tbody>\n",
       "</table>\n",
       "</div>"
      ],
      "text/plain": [
       "                                                   Value\n",
       "GEO                                                     \n",
       "AL     [3,058,497, 3,063,318, 3,057,018, 3,044,993, 3...\n",
       "AL0    [:, :, 3,057,018, 3,044,993, 3,034,231, 3,019,...\n",
       "AL01   [:, :, :, :, :, :, :, :, :, :, :, :, 861,058, ...\n",
       "AL011  [:, :, :, :, :, :, :, :, :, :, :, :, 140,956, ...\n",
       "AL012  [:, :, :, :, :, :, :, :, :, :, :, :, 271,947, ..."
      ]
     },
     "execution_count": 175,
     "metadata": {},
     "output_type": "execute_result"
    }
   ],
   "source": [
    "list_per_code = data.groupby(\"GEO\").agg(lambda x: list(x))\n",
    "list_per_code = list_per_code.drop([\"Year\", \"GEO_LABEL\"], axis=1)\n",
    "list_per_code.head()"
   ]
  },
  {
   "cell_type": "code",
   "execution_count": 185,
   "metadata": {
    "collapsed": false
   },
   "outputs": [
    {
     "data": {
      "text/plain": [
       "'10,239,085'"
      ]
     },
     "execution_count": 185,
     "metadata": {},
     "output_type": "execute_result"
    }
   ],
   "source": [
    "# Get AL year 2000\n",
    "list_per_code.loc[\"BE\"][0][0]"
   ]
  },
  {
   "cell_type": "code",
   "execution_count": 184,
   "metadata": {
    "collapsed": false
   },
   "outputs": [
    {
     "data": {
      "text/plain": [
       "'10,263,414'"
      ]
     },
     "execution_count": 184,
     "metadata": {},
     "output_type": "execute_result"
    }
   ],
   "source": [
    "# Get AL year 2001\n",
    "list_per_code.loc[\"BE\"][0][1]"
   ]
  },
  {
   "cell_type": "code",
   "execution_count": null,
   "metadata": {
    "collapsed": true
   },
   "outputs": [],
   "source": []
  }
 ],
 "metadata": {
  "kernelspec": {
   "display_name": "Python [Root]",
   "language": "python",
   "name": "Python [Root]"
  },
  "language_info": {
   "codemirror_mode": {
    "name": "ipython",
    "version": 3
   },
   "file_extension": ".py",
   "mimetype": "text/x-python",
   "name": "python",
   "nbconvert_exporter": "python",
   "pygments_lexer": "ipython3",
   "version": "3.5.2"
  }
 },
 "nbformat": 4,
 "nbformat_minor": 2
}
