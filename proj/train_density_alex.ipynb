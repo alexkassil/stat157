{
 "cells": [
  {
   "cell_type": "code",
   "execution_count": 2,
   "metadata": {},
   "outputs": [],
   "source": [
    "import numpy as np\n",
    "import tensorflow as tf\n",
    "import keras.applications\n",
    "from keras.layers import Dense, Input, Conv2D, Flatten, GlobalAveragePooling2D, GlobalMaxPooling2D, Dropout\n",
    "from keras.applications.resnet50 import preprocess_input as p_i, decode_predictions, ResNet50\n",
    "from keras.models import Model\n",
    "from keras.optimizers import Adam, SGD\n",
    "from sklearn.model_selection import train_test_split\n",
    "import matplotlib.pyplot as plt"
   ]
  },
  {
   "cell_type": "code",
   "execution_count": 3,
   "metadata": {},
   "outputs": [
    {
     "data": {
      "text/plain": [
       "['/job:localhost/replica:0/task:0/device:GPU:0',\n",
       " '/job:localhost/replica:0/task:0/device:GPU:1']"
      ]
     },
     "execution_count": 3,
     "metadata": {},
     "output_type": "execute_result"
    }
   ],
   "source": [
    "from keras import backend as K\n",
    "K.tensorflow_backend._get_available_gpus()"
   ]
  },
  {
   "cell_type": "code",
   "execution_count": 4,
   "metadata": {},
   "outputs": [],
   "source": [
    "sess = tf.Session(config=tf.ConfigProto(log_device_placement=True))\n"
   ]
  },
  {
   "cell_type": "code",
   "execution_count": 5,
   "metadata": {},
   "outputs": [],
   "source": [
    "X_224 = np.load(\"X_224.npy\")\n",
    "y_npy = np.load(\"data/y_density.npy\")\n",
    "ylog = np.log(y_npy)"
   ]
  },
  {
   "cell_type": "code",
   "execution_count": 6,
   "metadata": {},
   "outputs": [
    {
     "data": {
      "text/plain": [
       "(2.2082744135228043, 9.300674555657366)"
      ]
     },
     "execution_count": 6,
     "metadata": {},
     "output_type": "execute_result"
    }
   ],
   "source": [
    "np.min(ylog), np.max(ylog)"
   ]
  },
  {
   "cell_type": "code",
   "execution_count": 7,
   "metadata": {},
   "outputs": [
    {
     "data": {
      "image/png": "[encoded data removed]",
      "text/plain": [
       "<Figure size 432x288 with 1 Axes>"
      ]
     },
     "metadata": {
      "needs_background": "light"
     },
     "output_type": "display_data"
    }
   ],
   "source": [
    "g = plt.hist(ylog, bins = np.linspace(0, 9, 10))\n",
    "plt.show()"
   ]
  },
  {
   "cell_type": "code",
   "execution_count": 8,
   "metadata": {},
   "outputs": [
    {
     "data": {
      "text/plain": [
       "(array([  0.,   0.,   4.,  84., 186.,  88.,  12.,  12.,   6.]),\n",
       " array([0., 1., 2., 3., 4., 5., 6., 7., 8., 9.]),\n",
       " <a list of 9 Patch objects>)"
      ]
     },
     "execution_count": 8,
     "metadata": {},
     "output_type": "execute_result"
    }
   ],
   "source": [
    "g"
   ]
  },
  {
   "cell_type": "code",
   "execution_count": 9,
   "metadata": {},
   "outputs": [
    {
     "name": "stderr",
     "output_type": "stream",
     "text": [
      "/home/alexkassil/.local/lib/python3.6/site-packages/keras_applications/resnet50.py:265: UserWarning: The output shape of `ResNet50(include_top=False)` has been changed since Keras 2.2.0.\n",
      "  warnings.warn('The output shape of `ResNet50(include_top=False)` '\n"
     ]
    }
   ],
   "source": [
    "class_model = ResNet50(input_shape=(224, 224, 3), weights='imagenet', include_top=False)\n",
    "x = class_model.output\n",
    "x = GlobalAveragePooling2D()(x)\n",
    "x = Dropout(0.7)(x)\n",
    "predictions = Dense(10, activation= 'softmax')(x)\n",
    "class_model = Model(inputs = class_model.input, outputs = predictions)\n"
   ]
  },
  {
   "cell_type": "code",
   "execution_count": 25,
   "metadata": {},
   "outputs": [],
   "source": [
    "y_class = keras.utils.np_utils.to_categorical(np.round(ylog), num_classes=10)\n",
    "X_train, X_test, y_train, y_test = train_test_split(X_224, y_class, test_size=.2, random_state=42)"
   ]
  },
  {
   "cell_type": "code",
   "execution_count": 26,
   "metadata": {},
   "outputs": [
    {
     "name": "stdout",
     "output_type": "stream",
     "text": [
      "Epoch 1/10\n",
      "314/314 [==============================] - 30s 97ms/step - loss: 0.4003 - acc: 0.8981\n",
      "Epoch 2/10\n",
      "314/314 [==============================] - 3s 10ms/step - loss: 0.1817 - acc: 0.9395\n",
      "Epoch 3/10\n",
      "314/314 [==============================] - 3s 10ms/step - loss: 0.1151 - acc: 0.9650\n",
      "Epoch 4/10\n",
      "314/314 [==============================] - 3s 9ms/step - loss: 0.0744 - acc: 0.9841\n",
      "Epoch 5/10\n",
      "314/314 [==============================] - 3s 10ms/step - loss: 0.0281 - acc: 0.9968\n",
      "Epoch 6/10\n",
      "314/314 [==============================] - 3s 9ms/step - loss: 0.0167 - acc: 0.9936\n",
      "Epoch 7/10\n",
      "314/314 [==============================] - 3s 9ms/step - loss: 0.0116 - acc: 1.0000\n",
      "Epoch 8/10\n",
      "314/314 [==============================] - 3s 9ms/step - loss: 0.0089 - acc: 1.0000\n",
      "Epoch 9/10\n",
      "314/314 [==============================] - 3s 10ms/step - loss: 0.0079 - acc: 1.0000\n",
      "Epoch 10/10\n",
      "314/314 [==============================] - 3s 10ms/step - loss: 0.0057 - acc: 1.0000\n"
     ]
    },
    {
     "data": {
      "text/plain": [
       "<keras.callbacks.History at 0x7f01d016b860>"
      ]
     },
     "execution_count": 26,
     "metadata": {},
     "output_type": "execute_result"
    }
   ],
   "source": [
    "adam = Adam(lr=0.0001)\n",
    "class_model.compile(optimizer= adam, loss='categorical_crossentropy', metrics=['accuracy'])\n",
    "class_model.fit(X_train, y_train, epochs = 10, batch_size = 32)\n"
   ]
  },
  {
   "cell_type": "code",
   "execution_count": null,
   "metadata": {},
   "outputs": [],
   "source": []
  },
  {
   "cell_type": "code",
   "execution_count": 27,
   "metadata": {},
   "outputs": [],
   "source": [
    "y_pred = class_model.predict(X_test)"
   ]
  },
  {
   "cell_type": "code",
   "execution_count": 33,
   "metadata": {},
   "outputs": [
    {
     "data": {
      "text/plain": [
       "0.8734177215189873"
      ]
     },
     "execution_count": 33,
     "metadata": {},
     "output_type": "execute_result"
    }
   ],
   "source": [
    "np.mean(np.argmax(y_pred, axis=1) == np.argmax(y_test, axis=1))"
   ]
  },
  {
   "cell_type": "code",
   "execution_count": 34,
   "metadata": {
    "scrolled": false
   },
   "outputs": [
    {
     "data": {
      "text/plain": [
       "array([6, 4, 6, 5, 4, 5, 4, 4, 5, 4, 5, 5, 5, 4, 6, 5, 4, 8, 4, 5, 4, 4,\n",
       "       4, 4, 4, 4, 5, 4, 3, 6, 4, 4, 8, 5, 4, 4, 5, 6, 9, 3, 8, 4, 4, 4,\n",
       "       4, 4, 4, 5, 4, 5, 4, 4, 7, 4, 5, 4, 5, 4, 4, 4, 4, 5, 4, 4, 6, 5,\n",
       "       5, 4, 5, 5, 5, 4, 6, 5, 5, 4, 4, 4, 4])"
      ]
     },
     "execution_count": 34,
     "metadata": {},
     "output_type": "execute_result"
    }
   ],
   "source": [
    "np.argmax(y_pred, axis=1)"
   ]
  },
  {
   "cell_type": "code",
   "execution_count": 35,
   "metadata": {},
   "outputs": [
    {
     "data": {
      "text/plain": [
       "array([6, 4, 6, 5, 4, 4, 4, 6, 5, 4, 5, 5, 5, 4, 6, 5, 4, 8, 6, 4, 3, 4,\n",
       "       4, 4, 4, 4, 5, 4, 3, 6, 4, 4, 8, 5, 4, 4, 5, 6, 9, 3, 8, 4, 5, 4,\n",
       "       4, 4, 5, 5, 4, 5, 4, 4, 7, 4, 5, 3, 5, 4, 4, 4, 4, 4, 4, 4, 6, 6,\n",
       "       5, 4, 5, 5, 5, 4, 6, 5, 5, 4, 4, 4, 4])"
      ]
     },
     "execution_count": 35,
     "metadata": {},
     "output_type": "execute_result"
    }
   ],
   "source": [
    "np.argmax(y_test, axis=1)"
   ]
  },
  {
   "cell_type": "code",
   "execution_count": null,
   "metadata": {},
   "outputs": [],
   "source": []
  },
  {
   "cell_type": "code",
   "execution_count": null,
   "metadata": {},
   "outputs": [],
   "source": []
  },
  {
   "cell_type": "code",
   "execution_count": null,
   "metadata": {},
   "outputs": [],
   "source": []
  },
  {
   "cell_type": "code",
   "execution_count": null,
   "metadata": {},
   "outputs": [],
   "source": []
  }
 ],
 "metadata": {
  "kernelspec": {
   "display_name": "Python 3",
   "language": "python",
   "name": "python3"
  },
  "language_info": {
   "codemirror_mode": {
    "name": "ipython",
    "version": 3
   },
   "file_extension": ".py",
   "mimetype": "text/x-python",
   "name": "python",
   "nbconvert_exporter": "python",
   "pygments_lexer": "ipython3",
   "version": "3.6.7"
  }
 },
 "nbformat": 4,
 "nbformat_minor": 2
}
