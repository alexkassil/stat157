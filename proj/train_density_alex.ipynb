{
 "cells": [
  {
   "cell_type": "code",
   "execution_count": 141,
   "metadata": {},
   "outputs": [],
   "source": [
    "import numpy as np\n",
    "import tensorflow as tf\n",
    "import keras.applications\n",
    "from keras.layers import Dense, Input, Conv2D, Flatten, GlobalAveragePooling2D, GlobalMaxPooling2D, Dropout\n",
    "from keras.applications.resnet50 import preprocess_input as p_i, decode_predictions, ResNet50\n",
    "from keras.models import Model\n",
    "from keras.optimizers import Adam, SGD\n",
    "from sklearn.model_selection import train_test_split\n",
    "import matplotlib.pyplot as plt"
   ]
  },
  {
   "cell_type": "code",
   "execution_count": 142,
   "metadata": {},
   "outputs": [
    {
     "data": {
      "text/plain": [
       "['/job:localhost/replica:0/task:0/device:GPU:0',\n",
       " '/job:localhost/replica:0/task:0/device:GPU:1']"
      ]
     },
     "execution_count": 142,
     "metadata": {},
     "output_type": "execute_result"
    }
   ],
   "source": [
    "from keras import backend as K\n",
    "K.tensorflow_backend._get_available_gpus()"
   ]
  },
  {
   "cell_type": "code",
   "execution_count": 143,
   "metadata": {},
   "outputs": [],
   "source": [
    "sess = tf.Session(config=tf.ConfigProto(log_device_placement=True))\n"
   ]
  },
  {
   "cell_type": "code",
   "execution_count": 144,
   "metadata": {},
   "outputs": [
    {
     "data": {
      "text/plain": [
       "(1731, 224, 224, 3)"
      ]
     },
     "execution_count": 144,
     "metadata": {},
     "output_type": "execute_result"
    }
   ],
   "source": [
    "X = np.load(\"/datasets/data/X_1731.npy\")#[:393]\n",
    "y_npy = np.load(\"/datasets/data/y_1731.npy\")#[:393]\n",
    "ylog = np.log(y_npy)\n",
    "X.shape"
   ]
  },
  {
   "cell_type": "code",
   "execution_count": 145,
   "metadata": {},
   "outputs": [
    {
     "data": {
      "text/plain": [
       "(0.5306282510621704, 9.300674555657366)"
      ]
     },
     "execution_count": 145,
     "metadata": {},
     "output_type": "execute_result"
    }
   ],
   "source": [
    "np.min(ylog), np.max(ylog)"
   ]
  },
  {
   "cell_type": "code",
   "execution_count": 146,
   "metadata": {},
   "outputs": [
    {
     "data": {
      "image/png": "[encoded data removed]",
      "text/plain": [
       "<Figure size 432x288 with 1 Axes>"
      ]
     },
     "metadata": {
      "needs_background": "light"
     },
     "output_type": "display_data"
    }
   ],
   "source": [
    "g = plt.hist(ylog, bins = np.linspace(0, 9, 10))\n",
    "plt.show()"
   ]
  },
  {
   "cell_type": "code",
   "execution_count": 147,
   "metadata": {},
   "outputs": [
    {
     "data": {
      "text/plain": [
       "(array([  5.,   6.,  44., 306., 745., 395., 128.,  79.,  20.]),\n",
       " array([0., 1., 2., 3., 4., 5., 6., 7., 8., 9.]),\n",
       " <a list of 9 Patch objects>)"
      ]
     },
     "execution_count": 147,
     "metadata": {},
     "output_type": "execute_result"
    }
   ],
   "source": [
    "g"
   ]
  },
  {
   "cell_type": "code",
   "execution_count": 148,
   "metadata": {},
   "outputs": [
    {
     "name": "stderr",
     "output_type": "stream",
     "text": [
      "/home/alexkassil/.local/lib/python3.6/site-packages/keras_applications/resnet50.py:265: UserWarning: The output shape of `ResNet50(include_top=False)` has been changed since Keras 2.2.0.\n",
      "  warnings.warn('The output shape of `ResNet50(include_top=False)` '\n"
     ]
    }
   ],
   "source": [
    "class_model = ResNet50(input_shape=(224, 224, 3), weights='imagenet', include_top=False)\n",
    "x = class_model.output\n",
    "x = GlobalAveragePooling2D()(x)\n",
    "x = Dropout(0.7)(x)\n",
    "predictions = Dense(10, activation= 'softmax')(x)\n",
    "class_model = Model(inputs = class_model.input, outputs = predictions)\n"
   ]
  },
  {
   "cell_type": "code",
   "execution_count": 149,
   "metadata": {},
   "outputs": [],
   "source": [
    "y_class = keras.utils.np_utils.to_categorical(np.round(ylog), num_classes=10)\n",
    "X_train, X_test, y_train, y_test = train_test_split(X, y_class, test_size=.2, random_state=42)"
   ]
  },
  {
   "cell_type": "code",
   "execution_count": 182,
   "metadata": {},
   "outputs": [
    {
     "name": "stdout",
     "output_type": "stream",
     "text": [
      "Epoch 1/2\n",
      "1384/1384 [==============================] - 78s 56ms/step - loss: 0.0056 - acc: 0.9986\n",
      "Epoch 2/2\n",
      "1384/1384 [==============================] - 15s 11ms/step - loss: 9.5533e-04 - acc: 1.0000\n"
     ]
    },
    {
     "data": {
      "text/plain": [
       "<keras.callbacks.History at 0x7fd5b19eb7f0>"
      ]
     },
     "execution_count": 182,
     "metadata": {},
     "output_type": "execute_result"
    }
   ],
   "source": [
    "adam = Adam(lr=0.000001)\n",
    "class_model.compile(optimizer= adam, loss='categorical_crossentropy', metrics=['accuracy'])\n",
    "class_model.fit(X_train, y_train, epochs = 2, batch_size = 32)\n"
   ]
  },
  {
   "cell_type": "code",
   "execution_count": 183,
   "metadata": {},
   "outputs": [
    {
     "name": "stdout",
     "output_type": "stream",
     "text": [
      "Epoch 1/2\n",
      "1384/1384 [==============================] - 15s 11ms/step - loss: 0.0023 - acc: 0.9993\n",
      "Epoch 2/2\n",
      "1384/1384 [==============================] - 15s 11ms/step - loss: 7.4313e-04 - acc: 1.0000\n"
     ]
    },
    {
     "data": {
      "text/plain": [
       "<keras.callbacks.History at 0x7fd61722b9b0>"
      ]
     },
     "execution_count": 183,
     "metadata": {},
     "output_type": "execute_result"
    }
   ],
   "source": [
    "class_model.fit(X_train, y_train, epochs = 2, batch_size = 32)\n"
   ]
  },
  {
   "cell_type": "code",
   "execution_count": 184,
   "metadata": {},
   "outputs": [],
   "source": [
    "y_pred = class_model.predict(X_test)"
   ]
  },
  {
   "cell_type": "code",
   "execution_count": 185,
   "metadata": {},
   "outputs": [
    {
     "data": {
      "text/plain": [
       "0.7060518731988472"
      ]
     },
     "execution_count": 185,
     "metadata": {},
     "output_type": "execute_result"
    }
   ],
   "source": [
    "np.mean(np.argmax(y_pred, axis=1) == np.argmax(y_test, axis=1))"
   ]
  },
  {
   "cell_type": "code",
   "execution_count": 186,
   "metadata": {
    "scrolled": false
   },
   "outputs": [
    {
     "data": {
      "text/plain": [
       "array([5, 5, 4, 6, 5, 5, 4, 5, 5, 5, 8, 3, 4, 5, 5, 7, 6, 5, 4, 5, 4, 4,\n",
       "       4, 5, 6, 4, 5, 7, 7, 4, 8, 4, 7, 5, 5, 4, 4, 4, 5, 4, 5, 4, 4, 4,\n",
       "       9, 2, 4, 4, 5, 5, 5, 5, 5, 5, 4, 4, 5, 3, 4, 4, 5, 5, 5, 4, 4, 4,\n",
       "       5, 5, 4, 4, 5, 8, 6, 5, 9, 4, 6, 4, 3, 5, 4, 4, 5, 4, 5, 7, 5, 4,\n",
       "       5, 5, 4, 5, 5, 5, 8, 2, 5, 4, 3, 4, 5, 5, 4, 5, 5, 6, 4, 5, 4, 6,\n",
       "       4, 5, 8, 4, 4, 5, 4, 4, 5, 5, 4, 5, 6, 5, 6, 5, 5, 5, 4, 8, 5, 3,\n",
       "       5, 4, 5, 5, 5, 8, 5, 5, 5, 4, 4, 5, 4, 4, 4, 4, 5, 4, 4, 5, 4, 4,\n",
       "       5, 5, 6, 7, 4, 4, 5, 4, 5, 7, 6, 5, 7, 5, 5, 3, 4, 7, 3, 5, 4, 6,\n",
       "       5, 4, 4, 5, 6, 6, 5, 4, 4, 5, 7, 6, 4, 5, 5, 8, 5, 5, 4, 4, 5, 4,\n",
       "       4, 6, 5, 5, 8, 5, 5, 7, 5, 5, 5, 5, 4, 4, 5, 4, 4, 4, 4, 5, 5, 4,\n",
       "       5, 8, 6, 6, 6, 5, 4, 3, 6, 3, 5, 6, 4, 8, 6, 4, 2, 5, 5, 5, 4, 4,\n",
       "       7, 5, 5, 6, 5, 6, 4, 5, 7, 5, 4, 5, 4, 4, 4, 6, 8, 4, 5, 4, 6, 6,\n",
       "       3, 6, 3, 4, 7, 4, 5, 5, 4, 4, 4, 7, 4, 5, 5, 4, 4, 4, 4, 5, 7, 4,\n",
       "       4, 5, 5, 5, 3, 7, 4, 5, 4, 4, 6, 4, 5, 4, 5, 4, 4, 6, 4, 4, 3, 5,\n",
       "       4, 4, 4, 6, 5, 4, 4, 5, 7, 4, 4, 4, 8, 6, 4, 4, 4, 4, 5, 5, 6, 5,\n",
       "       4, 3, 4, 4, 5, 6, 6, 5, 8, 5, 4, 6, 5, 3, 5, 5, 7])"
      ]
     },
     "execution_count": 186,
     "metadata": {},
     "output_type": "execute_result"
    }
   ],
   "source": [
    "np.argmax(y_pred, axis=1)"
   ]
  },
  {
   "cell_type": "code",
   "execution_count": 178,
   "metadata": {},
   "outputs": [
    {
     "data": {
      "text/plain": [
       "array([5, 6, 4, 6, 6, 5, 4, 5, 5, 4, 8, 3, 4, 5, 5, 7, 7, 5, 5, 5, 4, 4,\n",
       "       5, 5, 6, 5, 6, 7, 8, 4, 8, 4, 7, 5, 4, 4, 3, 4, 5, 5, 6, 5, 4, 4,\n",
       "       8, 3, 4, 4, 5, 5, 5, 6, 5, 5, 4, 5, 5, 3, 4, 4, 5, 5, 5, 5, 3, 4,\n",
       "       5, 6, 4, 5, 3, 8, 6, 5, 9, 3, 5, 4, 3, 5, 3, 3, 5, 4, 5, 6, 5, 4,\n",
       "       5, 5, 5, 4, 5, 5, 6, 4, 6, 5, 5, 4, 6, 5, 5, 5, 5, 5, 5, 6, 4, 7,\n",
       "       4, 5, 8, 4, 4, 5, 4, 4, 6, 5, 2, 5, 6, 5, 6, 5, 4, 5, 4, 8, 5, 3,\n",
       "       4, 4, 5, 6, 5, 8, 5, 4, 5, 4, 4, 6, 4, 4, 4, 4, 4, 4, 4, 4, 6, 4,\n",
       "       5, 5, 6, 7, 4, 4, 4, 4, 5, 7, 6, 5, 7, 6, 4, 5, 6, 7, 3, 5, 5, 6,\n",
       "       4, 4, 4, 5, 6, 6, 5, 5, 4, 6, 6, 5, 4, 5, 5, 6, 5, 5, 4, 5, 1, 4,\n",
       "       4, 6, 5, 5, 7, 5, 5, 7, 5, 5, 5, 5, 4, 4, 5, 4, 4, 4, 7, 5, 5, 5,\n",
       "       4, 8, 6, 8, 6, 5, 6, 3, 6, 3, 5, 6, 4, 8, 5, 4, 2, 5, 5, 5, 5, 4,\n",
       "       7, 5, 5, 6, 5, 6, 4, 5, 7, 7, 5, 5, 4, 4, 4, 6, 8, 4, 5, 5, 6, 6,\n",
       "       4, 6, 3, 4, 7, 4, 5, 4, 4, 4, 4, 6, 4, 5, 4, 4, 5, 4, 4, 5, 9, 4,\n",
       "       4, 5, 6, 3, 4, 7, 4, 6, 4, 5, 6, 3, 5, 5, 6, 4, 7, 6, 4, 4, 3, 3,\n",
       "       4, 3, 3, 6, 6, 4, 3, 5, 7, 4, 4, 4, 8, 7, 4, 4, 4, 4, 5, 5, 6, 5,\n",
       "       4, 3, 4, 3, 5, 6, 6, 5, 4, 6, 4, 6, 5, 4, 7, 5, 7])"
      ]
     },
     "execution_count": 178,
     "metadata": {},
     "output_type": "execute_result"
    }
   ],
   "source": [
    "np.argmax(y_test, axis=1)"
   ]
  },
  {
   "cell_type": "code",
   "execution_count": 179,
   "metadata": {},
   "outputs": [
    {
     "data": {
      "text/plain": [
       "array([ 0,  1,  0,  0,  1,  0,  0,  0,  0, -1,  0,  0,  0,  0,  0,  0,  1,\n",
       "        0,  1,  0,  0,  0,  1,  0,  0,  1,  1,  0,  1,  0,  0,  0,  0,  0,\n",
       "       -1,  0, -1,  0,  0,  1,  1,  1,  0,  0, -1,  1,  0,  0,  0,  0,  0,\n",
       "        1,  0,  0,  0,  1,  0,  0,  0,  0,  1,  0,  0,  1, -1,  0,  0,  1,\n",
       "        0,  1, -2,  0,  0,  0,  0, -1, -1,  0,  0,  0, -1, -1,  0,  0,  0,\n",
       "       -1,  0,  0,  0,  0,  1, -1,  0,  0, -2,  2,  1,  1,  2,  1,  1,  0,\n",
       "        1,  0,  0, -1,  1,  1,  0,  1,  0,  0,  0,  0,  0,  0,  0,  0,  1,\n",
       "        0, -2,  0,  0,  0,  0,  0, -1,  0,  0,  0,  0,  0, -1,  0,  0,  1,\n",
       "        0,  0,  0, -1,  0,  0,  0,  1,  0,  0,  0,  0, -1,  0,  0, -1,  2,\n",
       "        0,  0,  0,  0,  0,  0,  0, -1,  0,  0,  0,  0,  0,  0,  1, -1,  2,\n",
       "        2,  0,  0,  0,  1,  0, -1,  0,  0,  0,  1,  0,  0,  1,  0,  1, -1,\n",
       "        0,  0,  0,  0, -2,  0,  0,  0,  1, -4,  0,  0,  0,  0,  1, -1,  0,\n",
       "        0,  0,  0,  0,  0,  0,  0,  0,  0,  0,  0,  0,  3,  0,  0,  1, -1,\n",
       "        0,  0,  2,  0,  0,  2,  0,  0,  0,  0,  0,  0,  0, -1,  0,  0,  0,\n",
       "        0,  0,  1,  0,  0,  0,  0,  0,  0,  0,  0,  0,  0,  2,  1,  0,  0,\n",
       "        0,  0,  0,  0,  0,  0,  1,  0,  0,  1,  0,  0,  0,  0,  0,  0, -1,\n",
       "        0,  0,  0, -1,  0,  0, -1,  0,  1,  0,  0,  0,  2,  0,  0,  0,  1,\n",
       "       -2,  1,  0,  0,  1,  0,  1,  0, -1,  0,  1,  1,  0,  3,  0,  0,  0,\n",
       "        0, -1,  0, -1, -1,  0,  1,  0, -1,  0,  0,  0,  0,  0,  0,  1,  0,\n",
       "        0,  0,  0,  0,  0,  0,  0,  0,  0,  0, -1,  0,  0,  0,  0, -4,  1,\n",
       "        0,  0,  0,  1,  2,  0,  0])"
      ]
     },
     "execution_count": 179,
     "metadata": {},
     "output_type": "execute_result"
    }
   ],
   "source": [
    "np.argmax(y_test, axis=1) - np.argmax(y_pred, axis=1)"
   ]
  },
  {
   "cell_type": "code",
   "execution_count": 248,
   "metadata": {},
   "outputs": [
    {
     "name": "stdout",
     "output_type": "stream",
     "text": [
      "0\n"
     ]
    },
    {
     "data": {
      "text/plain": [
       "array([  0.,   0.,   0.,   0.,   0., 100.,   0.,   0.,   0.,   0.],\n",
       "      dtype=float32)"
      ]
     },
     "execution_count": 248,
     "metadata": {},
     "output_type": "execute_result"
    }
   ],
   "source": [
    "val = 50\n",
    "print(np.argmax(y_test, axis=1)[val] - np.argmax(y_pred, axis=1)[val])\n",
    "np.round(y_pred[val]*100)"
   ]
  },
  {
   "cell_type": "code",
   "execution_count": 173,
   "metadata": {},
   "outputs": [
    {
     "name": "stderr",
     "output_type": "stream",
     "text": [
      "Clipping input data to the valid range for imshow with RGB data ([0..1] for floats or [0..255] for integers).\n"
     ]
    },
    {
     "data": {
      "text/plain": [
       "<matplotlib.image.AxesImage at 0x7fd60eff8860>"
      ]
     },
     "execution_count": 173,
     "metadata": {},
     "output_type": "execute_result"
    },
    {
     "data": {
      "image/png": "[encoded data removed]",
      "text/plain": [
       "<Figure size 432x288 with 1 Axes>"
      ]
     },
     "metadata": {
      "needs_background": "light"
     },
     "output_type": "display_data"
    }
   ],
   "source": [
    "X_224 = np.load(\"X_224.npy\")\n",
    "plt.imshow(np.var(X_224, axis=1))"
   ]
  },
  {
   "cell_type": "code",
   "execution_count": 131,
   "metadata": {},
   "outputs": [
    {
     "name": "stderr",
     "output_type": "stream",
     "text": [
      "Clipping input data to the valid range for imshow with RGB data ([0..1] for floats or [0..255] for integers).\n"
     ]
    },
    {
     "data": {
      "text/plain": [
       "<matplotlib.image.AxesImage at 0x7fd637fe51d0>"
      ]
     },
     "execution_count": 131,
     "metadata": {},
     "output_type": "execute_result"
    },
    {
     "data": {
      "image/png": "[encoded data removed]",
      "text/plain": [
       "<Figure size 432x288 with 1 Axes>"
      ]
     },
     "metadata": {
      "needs_background": "light"
     },
     "output_type": "display_data"
    }
   ],
   "source": [
    "plt.imshow(np.var(X, axis=1))"
   ]
  },
  {
   "cell_type": "code",
   "execution_count": null,
   "metadata": {},
   "outputs": [],
   "source": []
  }
 ],
 "metadata": {
  "kernelspec": {
   "display_name": "Python 3",
   "language": "python",
   "name": "python3"
  },
  "language_info": {
   "codemirror_mode": {
    "name": "ipython",
    "version": 3
   },
   "file_extension": ".py",
   "mimetype": "text/x-python",
   "name": "python",
   "nbconvert_exporter": "python",
   "pygments_lexer": "ipython3",
   "version": "3.6.7"
  }
 },
 "nbformat": 4,
 "nbformat_minor": 2
}
