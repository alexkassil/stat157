{
 "cells": [
  {
   "cell_type": "markdown",
   "metadata": {},
   "source": [
    "# Homework 3 - Berkeley STAT 157\n",
    "\n",
    "Handout 2/5/2019, due 2/12/2019 by 4pm in Git by committing to your repository.\n",
    "\n",
    "**Formatting: please include both a .ipynb and .pdf file in your homework submission, named homework3.ipynb and homework3.pdf. You can export your notebook to a pdf either by File -> Download as -> PDF via Latex (you may need Latex installed), or by simply printing to a pdf from your browser (you may want to do File -> Print Preview in jupyter first). Please don't change the filename.**       "
   ]
  },
  {
   "cell_type": "code",
   "execution_count": 1,
   "metadata": {
    "ExecuteTime": {
     "end_time": "2019-02-07T00:58:19.457771Z",
     "start_time": "2019-02-07T00:58:16.843106Z"
    },
    "collapsed": false
   },
   "outputs": [],
   "source": [
    "from mxnet import nd, autograd, gluon\n",
    "import numpy as np\n",
    "import matplotlib.pyplot as plt\n",
    "%matplotlib inline"
   ]
  },
  {
   "cell_type": "markdown",
   "metadata": {},
   "source": [
    "# 1. Logistic Regression for Binary Classification\n",
    "\n",
    "In multiclass classification we typically use the exponential model \n",
    "\n",
    "$$p(y|\\mathbf{o}) = \\mathrm{softmax}(\\mathbf{o})_y = \\frac{\\exp(o_y)}{\\sum_{y'} \\exp(o_{y'})}$$\n",
    "\n",
    "1.1. Show that this parametrization has a spurious degree of freedom. That is, show that both $\\mathbf{o}$ and $\\mathbf{o} + c$ with $c \\in \\mathbb{R}$ lead to the same probability estimate.\n",
    "1.2. For binary classification, i.e. whenever we have only two classes $\\{-1, 1\\}$, we can arbitrarily set $o_{-1} = 0$. Using the shorthand $o = o_1$ show that this is equivalent to \n",
    "\n",
    "$$p(y=1|o) = \\frac{1}{1 + \\exp(-o)}$$\n",
    "\n",
    "1.3. Show that the log-likelihood loss (often called logistic loss) for labels $y \\in \\{-1, 1\\}$ is thus given by \n",
    "\n",
    "$$-\\log p(y|o) = \\log (1 + \\exp(-y \\cdot o))$$\n",
    "\n",
    "1.4. Show that for $y = 1$ the logistic loss asymptotes to $o$ for $o \\to \\infty$ and to $\\exp(o)$ for $o \\to -\\infty$. "
   ]
  },
  {
   "cell_type": "markdown",
   "metadata": {},
   "source": [
    "1.1)\n",
    "\n",
    "$$\n",
    "\\mathrm{softmax}(\\mathbf{o} + c)_y =\\\\ \\frac{\\exp(o_y + c)}{\\sum_{y'} \\exp(o_{y'} + c)} =\\\\\n",
    "\\frac{\\exp(o_y)\\exp(c)}{\\sum_{y'} \\exp(o_{y'})\\exp(c)} = \\\\\n",
    "\\frac{\\exp(o_y)}{\\sum_{y'} \\exp(o_{y'})} =\\mathrm{softmax}(\\mathbf{o})_y $$"
   ]
  },
  {
   "cell_type": "markdown",
   "metadata": {},
   "source": [
    "1.2)\n",
    "\n",
    "$$p(y=1|o) =\\\\\n",
    "\\frac{\\exp(o)}{\\sum_{y'} \\exp(o_{y'})}=\\\\\n",
    "\\frac{\\exp(o)}{\\exp(0) + \\exp(o)}=\\\\\n",
    "\\frac{\\exp(o)}{1 + \\exp(o)} * \\frac{\\exp(-o)}{\\exp(-o)} = \\\\\n",
    "\\frac{1}{1 + \\exp(-o)}$$\n"
   ]
  },
  {
   "cell_type": "markdown",
   "metadata": {},
   "source": [
    "1.3)\n",
    "\n",
    "$$\\log p(1|o) = \\log ((1 + \\exp(-o))^{-1})= -\\log (1 + \\exp(-o))$$ \n",
    "\n",
    "and \n",
    "\n",
    "$$p(-1|o) = 1 - p(-1|o) = 1 - \\frac{1}{1+\\exp(-o)} = \\frac{1+\\exp(-o)}{1+\\exp(-o)} - \\frac{1}{1+\\exp(-o)} = \\frac{\\exp(-o)}{1+\\exp(-o)} * \\frac{\\exp(o)}{\\exp(o)} = \\frac{1}{1+\\exp(o)}$$\n",
    "\n",
    "means that\n",
    "\n",
    "$$\\log p(-1|o) = \\log ((1 + \\exp(o))^{-1})= -\\log (1 + \\exp(o))$$ \n",
    "\n",
    "concluding that\n",
    "\n",
    "$$-\\log p(y|o) = \\log (1 + \\exp(-y \\cdot o))$$\n",
    "\n",
    "\n",
    "1.4)\n",
    "\n",
    "$$\\lim_{o \\to \\infty}\\frac{1}{1 + \\exp(-o)} = \\frac{1}{1 + \\frac{1}{e^\\infty}} = 1$$\n",
    "\n",
    "$$\\lim_{o \\to -\\infty}\\frac{1}{1 + \\exp(-o)} = \\frac{1}{1 + e^\\infty} = 0$$"
   ]
  },
  {
   "cell_type": "markdown",
   "metadata": {},
   "source": [
    "# 2. Logistic Regression and Autograd\n",
    "\n",
    "1. Implement the binary logistic loss $l(y,o) = \\log (1 + \\exp(-y \\cdot o))$ in Gluon\n",
    "1. Plot its values for $y \\in \\{-1, 1\\}$ over the range of $o \\in [-5, 5]$.\n",
    "1. Plot its derivative with respect to $o$ for $o \\in [-5, 5]$ using 'autograd'."
   ]
  },
  {
   "cell_type": "code",
   "execution_count": 2,
   "metadata": {
    "ExecuteTime": {
     "end_time": "2019-02-07T00:58:19.464756Z",
     "start_time": "2019-02-07T00:58:19.459943Z"
    },
    "collapsed": true
   },
   "outputs": [],
   "source": [
    "def loss(y,o):\n",
    "    l = nd.log(1+nd.exp(-y * o))\n",
    "    return l"
   ]
  },
  {
   "cell_type": "code",
   "execution_count": 3,
   "metadata": {
    "collapsed": true
   },
   "outputs": [],
   "source": [
    "def dloss(y, o):\n",
    "    o.attach_grad()\n",
    "    with autograd.record():\n",
    "        z = loss(y, o)\n",
    "    z.backward()\n",
    "    return o.grad"
   ]
  },
  {
   "cell_type": "code",
   "execution_count": 4,
   "metadata": {
    "collapsed": false
   },
   "outputs": [
    {
     "data": {
      "image/png": "[encoded data removed]",
      "text/plain": [
       "<Figure size 1000x500 with 1 Axes>"
      ]
     },
     "metadata": {},
     "output_type": "display_data"
    }
   ],
   "source": [
    "o = nd.arange(-5, 6)\n",
    "plt.figure(figsize=(10,5))\n",
    "plt.plot(o.asnumpy(), loss(1, o).asnumpy())\n",
    "plt.plot(o.asnumpy(), loss(-1, o).asnumpy())\n",
    "plt.plot(o.asnumpy(), dloss(1, o).asnumpy())\n",
    "plt.plot(o.asnumpy(), dloss(-1, o).asnumpy())\n",
    "plt.legend(['loss(1, [-5, 5])','loss(-1, [-5, 5])','(d/do)loss(1, [-5, 5])','(d/do)loss(-1, [-5, 5])'])\n",
    "plt.title(\"Logistic Regression and autograd\")\n",
    "plt.show()\n"
   ]
  },
  {
   "cell_type": "markdown",
   "metadata": {},
   "source": [
    "# 3. Ohm's Law\n",
    "\n",
    "Imagine that you're a young physicist, maybe named [Georg Simon Ohm](https://en.wikipedia.org/wiki/Georg_Ohm), trying to figure out how current and voltage depend on each other for resistors. You have some idea but you aren't quite sure yet whether the dependence is linear or quadratic. So you take some measurements, conveniently given to you as 'ndarrays' in Python. They are indicated by 'current' and 'voltage'.\n",
    "\n",
    "Your goal is to use least mean squares regression to identify the coefficients for the following three models using automatic differentiation and least mean squares regression. The three models are:\n",
    "\n",
    "1. Quadratic model where $\\mathrm{voltage} = c + r \\cdot \\mathrm{current} + q \\cdot \\mathrm{current}^2$.\n",
    "1. Linear model where $\\mathrm{voltage} = c + r \\cdot \\mathrm{current}$.\n",
    "1. Ohm's law where $\\mathrm{voltage} = r \\cdot \\mathrm{current}$."
   ]
  },
  {
   "cell_type": "code",
   "execution_count": 5,
   "metadata": {
    "ExecuteTime": {
     "end_time": "2019-02-07T00:58:19.477109Z",
     "start_time": "2019-02-07T00:58:19.468122Z"
    },
    "collapsed": true
   },
   "outputs": [],
   "source": [
    "current = nd.array([1.5420291, 1.8935232, 2.1603365, 2.5381863, 2.893443, \\\n",
    "                    3.838855, 3.925425, 4.2233696, 4.235571, 4.273397, \\\n",
    "                    4.9332876, 6.4704757, 6.517571, 6.87826, 7.0009003, \\\n",
    "                    7.035741, 7.278681, 7.7561755, 9.121138, 9.728281])\n",
    "voltage = nd.array([63.802246, 80.036026, 91.4903, 108.28776, 122.781975, \\\n",
    "                    161.36314, 166.50816, 176.16772, 180.29395, 179.09758, \\\n",
    "                    206.21027, 272.71857, 272.24033, 289.54745, 293.8488, \\\n",
    "                    295.2281, 306.62274, 327.93243, 383.16296, 408.65967])"
   ]
  },
  {
   "cell_type": "code",
   "execution_count": 6,
   "metadata": {
    "collapsed": false
   },
   "outputs": [],
   "source": [
    "#plt.plot(current.asnumpy(), voltage.asnumpy())"
   ]
  },
  {
   "cell_type": "code",
   "execution_count": 7,
   "metadata": {
    "collapsed": false
   },
   "outputs": [
    {
     "data": {
      "text/plain": [
       "[<matplotlib.lines.Line2D at 0x7f3e9d0fdcf8>]"
      ]
     },
     "execution_count": 7,
     "metadata": {},
     "output_type": "execute_result"
    },
    {
     "data": {
      "image/png": "[encoded data removed]",
      "text/plain": [
       "<Figure size 600x400 with 1 Axes>"
      ]
     },
     "metadata": {},
     "output_type": "display_data"
    }
   ],
   "source": [
    "plt.plot(current.asnumpy(), voltage.asnumpy())\n"
   ]
  },
  {
   "cell_type": "code",
   "execution_count": 8,
   "metadata": {
    "collapsed": false
   },
   "outputs": [],
   "source": [
    "import random\n",
    "def ohms(X, r):\n",
    "    return nd.dot(X, r)\n",
    "def linear(X, r, c):\n",
    "    return nd.dot(X, r) + c\n",
    "def quadratic(X, r, q, c):\n",
    "    #print(nd.square(X))\n",
    "    return nd.dot(nd.square(X), q) + nd.dot(nd.square(X), r) + c\n",
    "def squared_loss(y_hat, y):\n",
    "    return (y_hat - y.reshape(y_hat.shape)) ** 2 / 2\n",
    "def sgd(params, lr, batch_size):\n",
    "    for param in params:\n",
    "        param[:] = param - lr * param.grad / batch_size"
   ]
  },
  {
   "cell_type": "code",
   "execution_count": 9,
   "metadata": {
    "collapsed": false
   },
   "outputs": [
    {
     "name": "stdout",
     "output_type": "stream",
     "text": [
      "loss \n",
      "[7.450581e-09]\n",
      "<NDArray 1 @cpu(0)>\n",
      "Ohm's Law: 42.007374 * current = voltage\n"
     ]
    }
   ],
   "source": [
    "r = nd.random.normal(scale=0.01, shape=(1, 1))\n",
    "r.attach_grad()\n",
    "\n",
    "lr = 0.03\n",
    "num_epochs = 100\n",
    "net = ohms  \n",
    "loss = squared_loss\n",
    "for epoch in range(num_epochs):\n",
    "    with autograd.record():\n",
    "        for i in range(len(current)):\n",
    "            l = loss(net(current[i], r), voltage[i])\n",
    "    l.backward()\n",
    "    sgd([r], lr, len(current))\n",
    "print(\"loss\", l)\n",
    "print(\"Ohm's Law:\", r[0].asscalar(), \"* current = voltage\")"
   ]
  },
  {
   "cell_type": "code",
   "execution_count": 10,
   "metadata": {
    "collapsed": false
   },
   "outputs": [
    {
     "name": "stdout",
     "output_type": "stream",
     "text": [
      "loss \n",
      "[7.450581e-09]\n",
      "<NDArray 1 @cpu(0)>\n",
      "Linear: 4.2721305 + 41.56823 * current = voltage\n"
     ]
    }
   ],
   "source": [
    "r = nd.random.normal(scale=0.01, shape=(1, 1))\n",
    "c = nd.zeros(shape=(1,))\n",
    "r.attach_grad()\n",
    "c.attach_grad()\n",
    "\n",
    "lr = 0.03\n",
    "num_epochs = 100\n",
    "net = linear  \n",
    "loss = squared_loss\n",
    "for epoch in range(num_epochs):\n",
    "    with autograd.record():\n",
    "        for i in range(len(current)):\n",
    "            l = loss(net(current[i], r, c), voltage[i])\n",
    "    l.backward()\n",
    "    sgd([r, c], lr, len(current))\n",
    "print(\"loss\", l)\n",
    "print(\"Linear:\", c[0].asscalar(), \"+\", r[0].asscalar(), \"* current = voltage\")"
   ]
  },
  {
   "cell_type": "code",
   "execution_count": 11,
   "metadata": {
    "collapsed": false
   },
   "outputs": [
    {
     "name": "stdout",
     "output_type": "stream",
     "text": [
      "loss \n",
      "[3.702368e+10]\n",
      "<NDArray 1 @cpu(0)>\n",
      "quadratic: 393.00742 + 37194.016 * current + 37194.016 * current^2 = voltage\n"
     ]
    }
   ],
   "source": [
    "r = nd.random.normal(scale=0.01, shape=(1, 1))\n",
    "q = nd.random.normal(scale=0.01, shape=(1, 1))\n",
    "c = nd.zeros(shape=(1,))\n",
    "r.attach_grad()\n",
    "c.attach_grad()\n",
    "q.attach_grad()\n",
    "\n",
    "lr = 0.03\n",
    "num_epochs = 3\n",
    "net = quadratic  \n",
    "loss = squared_loss\n",
    "for epoch in range(num_epochs):\n",
    "    with autograd.record():\n",
    "        for i in range(len(current)):\n",
    "            l = loss(net(current[i], r, q, c), voltage[i])\n",
    "    l.backward()\n",
    "    sgd([r, q, c], lr, len(current))\n",
    "print(\"loss\", l)\n",
    "print(\"quadratic:\", c[0].asscalar(), \"+\", r[0].asscalar(), \"* current +\",  q[0].asscalar(), \"* current^2\",\"= voltage\")"
   ]
  },
  {
   "cell_type": "markdown",
   "metadata": {},
   "source": [
    "# 4. Entropy\n",
    "\n",
    "Let's compute the *binary* entropy of a number of interesting data sources. \n",
    "\n",
    "1. Assume that you're watching the output generated by a [monkey at a typewriter](https://en.wikipedia.org/wiki/File:Chimpanzee_seated_at_typewriter.jpg). The monkey presses any of the $44$ keys of the typewriter at random (you can assume that it has not discovered any special keys or the shift key yet). How many bits of randomness per character do you observe?\n",
    "1. Unhappy with the monkey you replaced it by a drunk typesetter. It is able to generate words, albeit not coherently. Instead, it picks a random word out of a vocabulary of $2,000$ words. Moreover, assume that the average length of a word is $4.5$ letters in English. How many bits of randomness do you observe now?\n",
    "1. Still unhappy with the result you replace the typesetter by a high quality language model. These can obtain perplexity numbers as low as 20 points per character. The perplexity is defined as a length normalized probability, i.e.\n",
    "\n",
    "$$\\mathrm{PPL}(x) = \\left[p(x)\\right]^{1/\\mathrm{length}(x)}$$"
   ]
  },
  {
   "cell_type": "markdown",
   "metadata": {},
   "source": [
    "1) \n",
    "$-\\log_{2}\\frac{1}{44} = 5.56$ bits\n",
    "\n",
    "2)\n",
    "$-\\log_{2}\\frac{1}{2000}*\\frac{1}{4.5} = 13.14$ bits\n",
    "\n",
    "3) Unsure how to answer since incomplete question? Maybe we get 20 more points per character and then \n",
    "\n",
    "$-\\log_{2}\\frac{1}{2000}*\\frac{1}{4.5}*\\frac{1}{29}= 17.46$ bits\n"
   ]
  },
  {
   "cell_type": "markdown",
   "metadata": {},
   "source": [
    "# 5. Wien's Approximation for the Temperature (bonus)\n",
    "\n",
    "We will now abuse Gluon to estimate the temperature of a black body. The energy emanated from a black body is given by Wien's approximation.\n",
    "\n",
    "$$B_\\lambda(T) = \\frac{2 h c^2}{\\lambda^5} \\exp\\left(-\\frac{h c}{\\lambda k T}\\right)$$\n",
    "\n",
    "That is, the amount of energy depends on the fifth power of the wavelength $\\lambda$ and the temperature $T$ of the body. The latter ensures a cutoff beyond a temperature-characteristic peak. Let us define this and plot it."
   ]
  },
  {
   "cell_type": "code",
   "execution_count": 12,
   "metadata": {
    "ExecuteTime": {
     "end_time": "2019-02-07T00:58:19.805358Z",
     "start_time": "2019-02-07T00:58:19.479818Z"
    },
    "collapsed": false
   },
   "outputs": [
    {
     "data": {
      "image/png": "[encoded data removed]",
      "text/plain": [
       "<Figure size 600x400 with 1 Axes>"
      ]
     },
     "metadata": {},
     "output_type": "display_data"
    }
   ],
   "source": [
    "# Lightspeed\n",
    "c = 299792458\n",
    "# Planck's constant\n",
    "h = 6.62607004e-34\n",
    "# Boltzmann constant\n",
    "k = 1.38064852e-23\n",
    "# Wavelength scale (nanometers)\n",
    "lamscale = 1e-6\n",
    "# Pulling out all powers of 10 upfront\n",
    "p_out = 2 * h * c**2 / lamscale**5\n",
    "p_in = (h / k) * (c/lamscale) \n",
    "\n",
    "# Wien's law\n",
    "def wien(lam, t):\n",
    "    return (p_out / lam**5) * nd.exp(-p_in / (lam * t))\n",
    "\n",
    "# Plot the radiance for a few different temperatures\n",
    "lam = nd.arange(0,100,0.01)\n",
    "for t in [10, 100, 150, 200, 250, 300, 350]:\n",
    "    radiance = wien(lam, t)\n",
    "    plt.plot(lam.asnumpy(), radiance.asnumpy(), label=('T=' + str(t) + 'K'))\n",
    "plt.legend()\n",
    "plt.show()"
   ]
  },
  {
   "cell_type": "markdown",
   "metadata": {},
   "source": [
    "Next we assume that we are a fearless physicist measuring some data. Of course, we need to pretend that we don't really know the temperature. But we measure the radiation at a few wavelengths.  "
   ]
  },
  {
   "cell_type": "code",
   "execution_count": 13,
   "metadata": {
    "ExecuteTime": {
     "end_time": "2019-02-07T00:58:20.063122Z",
     "start_time": "2019-02-07T00:58:19.808000Z"
    },
    "collapsed": false
   },
   "outputs": [
    {
     "data": {
      "image/png": "[encoded data removed]",
      "text/plain": [
       "<Figure size 600x400 with 1 Axes>"
      ]
     },
     "metadata": {},
     "output_type": "display_data"
    }
   ],
   "source": [
    "# real temperature is approximately 0C\n",
    "realtemp = 273\n",
    "# we observe at 3000nm up to 20,000nm wavelength\n",
    "wavelengths = nd.arange(3,20,2)\n",
    "# our infrared filters are pretty lousy ...\n",
    "delta = nd.random_normal(shape=(len(wavelengths))) * 1\n",
    "\n",
    "radiance = wien(wavelengths + delta,realtemp)\n",
    "plt.plot(wavelengths.asnumpy(), radiance.asnumpy(), label='measured')\n",
    "plt.plot(wavelengths.asnumpy(), wien(wavelengths, realtemp).asnumpy(), label='true')\n",
    "plt.legend()\n",
    "plt.show()"
   ]
  },
  {
   "cell_type": "markdown",
   "metadata": {
    "ExecuteTime": {
     "end_time": "2019-01-29T19:41:18.204791Z",
     "start_time": "2019-01-29T19:41:18.201091Z"
    }
   },
   "source": [
    "Use Gluon to estimate the real temperature based on the variables `wavelengths` and `radiance`. \n",
    "\n",
    "* You can use Wien's law implementation `wien(lam,t)` as your forward model. \n",
    "* Use the loss function $l(y,y') = (\\log y - \\log y')^2$ to measure accuracy."
   ]
  }
 ],
 "metadata": {
  "anaconda-cloud": {},
  "kernelspec": {
   "display_name": "Python [Root]",
   "language": "python",
   "name": "Python [Root]"
  },
  "language_info": {
   "codemirror_mode": {
    "name": "ipython",
    "version": 3
   },
   "file_extension": ".py",
   "mimetype": "text/x-python",
   "name": "python",
   "nbconvert_exporter": "python",
   "pygments_lexer": "ipython3",
   "version": "3.5.2"
  }
 },
 "nbformat": 4,
 "nbformat_minor": 2
}
